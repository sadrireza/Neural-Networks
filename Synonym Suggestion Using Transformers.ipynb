{
  "nbformat": 4,
  "nbformat_minor": 0,
  "metadata": {
    "colab": {
      "provenance": [],
      "include_colab_link": true
    },
    "kernelspec": {
      "name": "python3",
      "display_name": "Python 3"
    },
    "language_info": {
      "name": "python"
    }
  },
  "cells": [
    {
      "cell_type": "markdown",
      "metadata": {
        "id": "view-in-github",
        "colab_type": "text"
      },
      "source": [
        "<a href=\"https://colab.research.google.com/github/sadrireza/Neural-Networks/blob/main/Synonym%20Suggestion%20Using%20Transformers.ipynb\" target=\"_parent\"><img src=\"https://colab.research.google.com/assets/colab-badge.svg\" alt=\"Open In Colab\"/></a>"
      ]
    },
    {
      "cell_type": "markdown",
      "source": [
        "# Synonym Suggestion Using Transformers\n",
        "\n",
        "Text is Slightly Changed\n",
        "\n",
        "Wordnet Synsets are Used to Suggest Synonyms"
      ],
      "metadata": {
        "id": "517AiLJbaKMR"
      }
    },
    {
      "cell_type": "code",
      "execution_count": null,
      "metadata": {
        "colab": {
          "base_uri": "https://localhost:8080/"
        },
        "id": "zu6Xzm5Ze4fy",
        "outputId": "88ef7e9e-09ef-4e48-f6b3-351e8edf2e85"
      },
      "outputs": [
        {
          "output_type": "stream",
          "name": "stderr",
          "text": [
            "[nltk_data] Downloading package wordnet to /root/nltk_data...\n",
            "[nltk_data]   Package wordnet is already up-to-date!\n"
          ]
        },
        {
          "output_type": "stream",
          "name": "stdout",
          "text": [
            "\n",
            " Human being are member of a whole , \n",
            " In creation of one kernel and soul . \n",
            " If one member is afflict with pain , \n",
            " Other member uneasy will stay . \n",
            " If you rich_person no sympathy for human pain , \n",
            " The name of homo you can not retain . \n",
            "\n",
            "Word: \n",
            " , Synonyms: []\n",
            "Word: Human, Synonyms: ['homo', 'man', 'human_being', 'human', 'human', 'human', 'human']\n",
            "Word: being, Synonyms: ['being', 'beingness', 'existence', 'organism', 'being', 'be', 'be', 'be', 'exist', 'be', 'be', 'equal', 'be', 'constitute', 'represent', 'make_up', 'comprise', 'be', 'be', 'follow', 'embody', 'be', 'personify', 'be', 'be', 'live', 'be', 'cost', 'be']\n",
            "Word: are, Synonyms: ['are', 'ar', 'be', 'be', 'be', 'exist', 'be', 'be', 'equal', 'be', 'constitute', 'represent', 'make_up', 'comprise', 'be', 'be', 'follow', 'embody', 'be', 'personify', 'be', 'be', 'live', 'be', 'cost', 'be']\n",
            "Word: member, Synonyms: ['member', 'fellow_member', 'member', 'extremity', 'appendage', 'member', 'member', 'penis', 'phallus', 'member']\n",
            "Word: of, Synonyms: []\n",
            "Word: a, Synonyms: ['angstrom', 'angstrom_unit', 'A', 'vitamin_A', 'antiophthalmic_factor', 'axerophthol', 'A', 'deoxyadenosine_monophosphate', 'A', 'adenine', 'A', 'ampere', 'amp', 'A', 'A', 'a', 'A', 'type_A', 'group_A']\n",
            "Word: whole, Synonyms: ['whole', 'whole', 'unit', 'whole', 'whole', 'unharmed', 'unhurt', 'unscathed', 'whole', 'hale', 'whole', 'solid', 'unanimous', 'whole', 'wholly', 'entirely', 'completely', 'totally', 'all', 'altogether', 'whole']\n",
            "Word: ,, Synonyms: []\n",
            "Word: \n",
            " , Synonyms: []\n",
            "Word: In, Synonyms: ['inch', 'in', 'indium', 'In', 'atomic_number_49', 'Indiana', 'Hoosier_State', 'IN', 'in', 'in', 'in', 'in', 'inwards', 'inward']\n",
            "Word: creation, Synonyms: ['creation', 'creative_activity', 'creation', 'creation', 'conception', 'initiation', 'founding', 'foundation', 'institution', 'origination', 'creation', 'innovation', 'introduction', 'instauration', 'Creation', 'universe', 'existence', 'creation', 'world', 'cosmos', 'macrocosm']\n",
            "Word: of, Synonyms: []\n",
            "Word: one, Synonyms: ['one', '1', 'I', 'ace', 'single', 'unity', 'one', 'one', '1', 'i', 'ane', 'one', 'unitary', 'one', 'one', 'one', 'one', 'matchless', 'nonpareil', 'one', 'one_and_only', 'peerless', 'unmatched', 'unmatchable', 'unrivaled', 'unrivalled']\n",
            "Word: kernel, Synonyms: ['kernel', 'meat', 'kernel', 'kernel', 'substance', 'core', 'center', 'centre', 'essence', 'gist', 'heart', 'heart_and_soul', 'inwardness', 'marrow', 'meat', 'nub', 'pith', 'sum', 'nitty-gritty']\n",
            "Word: and, Synonyms: []\n",
            "Word: soul, Synonyms: ['soul', 'psyche', 'person', 'individual', 'someone', 'somebody', 'mortal', 'soul', 'soul', 'soulfulness', 'soul', 'soul']\n",
            "Word: ., Synonyms: []\n",
            "Word: \n",
            " , Synonyms: []\n",
            "Word: If, Synonyms: []\n",
            "Word: one, Synonyms: ['one', '1', 'I', 'ace', 'single', 'unity', 'one', 'one', '1', 'i', 'ane', 'one', 'unitary', 'one', 'one', 'one', 'one', 'matchless', 'nonpareil', 'one', 'one_and_only', 'peerless', 'unmatched', 'unmatchable', 'unrivaled', 'unrivalled']\n",
            "Word: member, Synonyms: ['member', 'fellow_member', 'member', 'extremity', 'appendage', 'member', 'member', 'penis', 'phallus', 'member']\n",
            "Word: is, Synonyms: ['be', 'be', 'be', 'exist', 'be', 'be', 'equal', 'be', 'constitute', 'represent', 'make_up', 'comprise', 'be', 'be', 'follow', 'embody', 'be', 'personify', 'be', 'be', 'live', 'be', 'cost', 'be']\n",
            "Word: afflict, Synonyms: ['afflict', 'afflict', 'smite']\n",
            "Word: with, Synonyms: []\n",
            "Word: pain, Synonyms: ['pain', 'hurting', 'pain', 'painfulness', 'pain', 'pain_sensation', 'painful_sensation', 'pain', 'pain_in_the_neck', 'nuisance', 'annoyance', 'bother', 'botheration', 'pain', 'infliction', 'pain_in_the_neck', 'pain_in_the_ass', 'trouble', 'ail', 'pain', 'pain', 'anguish', 'hurt']\n",
            "Word: ,, Synonyms: []\n",
            "Word: \n",
            " , Synonyms: []\n",
            "Word: Other, Synonyms: ['other', 'other', 'early', 'former', 'other', 'other']\n",
            "Word: member, Synonyms: ['member', 'fellow_member', 'member', 'extremity', 'appendage', 'member', 'member', 'penis', 'phallus', 'member']\n",
            "Word: uneasy, Synonyms: ['uneasy', 'restless', 'uneasy', 'anxious', 'nervous', 'queasy', 'uneasy', 'unquiet', 'awkward', 'ill_at_ease', 'uneasy', 'uneasy']\n",
            "Word: will, Synonyms: ['volition', 'will', 'will', 'will', 'testament', 'will', 'will', 'bequeath', 'will', 'leave']\n",
            "Word: stay, Synonyms: ['stay', 'arrest', 'check', 'halt', 'hitch', 'stay', 'stop', 'stoppage', 'stay', 'stay', 'stay', 'stay', 'remain', 'rest', 'stay', 'stick', 'stick_around', 'stay_put', 'bide', 'abide', 'stay', 'stay', 'stay_on', 'continue', 'remain', 'stay', 'stay', 'detain', 'delay', 'persist', 'remain', 'stay', 'last_out', 'stay', 'ride_out', 'outride', 'stay', 'stay', 'quell', 'stay', 'appease']\n",
            "Word: ., Synonyms: []\n",
            "Word: \n",
            " , Synonyms: []\n",
            "Word: If, Synonyms: []\n",
            "Word: you, Synonyms: []\n",
            "Word: rich_person, Synonyms: ['rich_person', 'wealthy_person', 'have']\n",
            "Word: no, Synonyms: ['no', 'nobelium', 'No', 'atomic_number_102', 'no', 'no', 'no_more', 'no', 'no']\n",
            "Word: sympathy, Synonyms: ['sympathy', 'understanding', 'sympathy', 'fellow_feeling', 'sympathy']\n",
            "Word: for, Synonyms: []\n",
            "Word: human, Synonyms: ['homo', 'man', 'human_being', 'human', 'human', 'human', 'human']\n",
            "Word: pain, Synonyms: ['pain', 'hurting', 'pain', 'painfulness', 'pain', 'pain_sensation', 'painful_sensation', 'pain', 'pain_in_the_neck', 'nuisance', 'annoyance', 'bother', 'botheration', 'pain', 'infliction', 'pain_in_the_neck', 'pain_in_the_ass', 'trouble', 'ail', 'pain', 'pain', 'anguish', 'hurt']\n",
            "Word: ,, Synonyms: []\n",
            "Word: \n",
            " , Synonyms: []\n",
            "Word: The, Synonyms: []\n",
            "Word: name, Synonyms: ['name', 'name', 'name', 'gens', 'name', 'figure', 'public_figure', 'name', 'name', 'epithet', 'name', 'call', 'name', 'identify', 'name', 'nominate', 'make', 'appoint', 'name', 'nominate', 'constitute', 'name', 'mention', 'advert', 'bring_up', 'cite', 'name', 'refer', 'identify', 'discover', 'key', 'key_out', 'distinguish', 'describe', 'name', 'list', 'name', 'diagnose', 'name']\n",
            "Word: of, Synonyms: []\n",
            "Word: homo, Synonyms: ['homosexual', 'homophile', 'homo', 'gay', 'homo', 'man', 'human_being', 'human']\n",
            "Word: you, Synonyms: []\n",
            "Word: can, Synonyms: ['can', 'tin', 'tin_can', 'can', 'canful', 'can', 'can_buoy', 'buttocks', 'nates', 'arse', 'butt', 'backside', 'bum', 'buns', 'can', 'fundament', 'hindquarters', 'hind_end', 'keister', 'posterior', 'prat', 'rear', 'rear_end', 'rump', 'stern', 'seat', 'tail', 'tail_end', 'tooshie', 'tush', 'bottom', 'behind', 'derriere', 'fanny', 'ass', 'toilet', 'can', 'commode', 'crapper', 'pot', 'potty', 'stool', 'throne', 'toilet', 'lavatory', 'lav', 'can', 'john', 'privy', 'bathroom', 'can', 'tin', 'put_up', 'displace', 'fire', 'give_notice', 'can', 'dismiss', 'give_the_axe', 'send_away', 'sack', 'force_out', 'give_the_sack', 'terminate']\n",
            "Word: not, Synonyms: ['not', 'non']\n",
            "Word: retain, Synonyms: ['retain', 'retain', 'continue', 'keep', 'keep_on', 'retain', 'hold', 'keep_back', 'hold_back', 'retain']\n",
            "Word: ., Synonyms: []\n",
            "Word: \n",
            ", Synonyms: []\n"
          ]
        }
      ],
      "source": [
        "import spacy\n",
        "import nltk\n",
        "from nltk.corpus import wordnet\n",
        "from nltk.stem import WordNetLemmatizer\n",
        "nltk.download('wordnet')\n",
        "\n",
        "# Load the spaCy model for English language\n",
        "nlp = spacy.load(\"en_core_web_sm\")\n",
        "\n",
        "def correct_syntax(text):\n",
        "    # Process the text using spaCy\n",
        "    doc = nlp(text)\n",
        "\n",
        "    # Initialize an empty list to store corrected tokens\n",
        "    corrected_tokens = []\n",
        "\n",
        "    # Iterate over each token in the document\n",
        "    for token in doc:\n",
        "        # Check if the token is a noun or verb and suggest synonyms\n",
        "        if token.pos_ == \"NOUN\" or token.pos_ == \"VERB\":\n",
        "            synonyms = get_synonyms(token.text)\n",
        "            corrected_tokens.append(synonyms[0])\n",
        "        else:\n",
        "            corrected_tokens.append(token.text)\n",
        "\n",
        "    # Join the corrected tokens back into a string\n",
        "    corrected_text = \" \".join(corrected_tokens)\n",
        "\n",
        "    return corrected_text\n",
        "\n",
        "def get_synonyms(word):\n",
        "    # Initialize an empty list to store synonyms\n",
        "    synonyms = []\n",
        "\n",
        "    # Use WordNet to find synonyms for the word\n",
        "    synsets = wordnet.synsets(word)\n",
        "\n",
        "    # Iterate over each synset and add its lemmas to the list of synonyms\n",
        "    for synset in synsets:\n",
        "        for lemma in synset.lemmas():\n",
        "            synonyms.append(lemma.name())\n",
        "\n",
        "    return synonyms\n",
        "\n",
        "# Test the function with a sample text\n",
        "text = '''\n",
        "Human beings are members of a whole,\n",
        "In creation of one essence and soul.\n",
        "If one member is afflicted with pain,\n",
        "Other members uneasy will remain.\n",
        "If you have no sympathy for human pain,\n",
        "The name of human you cannot retain.\n",
        "'''\n",
        "\n",
        "corrected_text = correct_syntax(text)\n",
        "print(corrected_text)\n",
        "\n",
        "# Get synonyms for each word in the corrected text\n",
        "for word in nlp(corrected_text):\n",
        "    print(f\"Word: {word.text}, Synonyms: {get_synonyms(word.text)}\")\n"
      ]
    }
  ]
}