{
 "cells": [
  {
   "cell_type": "code",
   "execution_count": 1,
   "id": "dc4cd867-dea4-4b4f-a1cc-e0571cd27eaa",
   "metadata": {},
   "outputs": [
    {
     "name": "stdout",
     "output_type": "stream",
     "text": [
      "Requirement already satisfied: shap in c:\\anaconda\\envs\\tfpy3.10\\lib\\site-packages (0.46.0)\n",
      "Requirement already satisfied: numpy in c:\\anaconda\\envs\\tfpy3.10\\lib\\site-packages (from shap) (1.26.4)\n",
      "Requirement already satisfied: scipy in c:\\anaconda\\envs\\tfpy3.10\\lib\\site-packages (from shap) (1.14.1)\n",
      "Requirement already satisfied: scikit-learn in c:\\anaconda\\envs\\tfpy3.10\\lib\\site-packages (from shap) (1.5.1)\n",
      "Requirement already satisfied: pandas in c:\\anaconda\\envs\\tfpy3.10\\lib\\site-packages (from shap) (2.2.2)\n",
      "Requirement already satisfied: tqdm>=4.27.0 in c:\\anaconda\\envs\\tfpy3.10\\lib\\site-packages (from shap) (4.66.5)\n",
      "Requirement already satisfied: packaging>20.9 in c:\\anaconda\\envs\\tfpy3.10\\lib\\site-packages (from shap) (24.1)\n",
      "Requirement already satisfied: slicer==0.0.8 in c:\\anaconda\\envs\\tfpy3.10\\lib\\site-packages (from shap) (0.0.8)\n",
      "Requirement already satisfied: numba in c:\\anaconda\\envs\\tfpy3.10\\lib\\site-packages (from shap) (0.60.0)\n",
      "Requirement already satisfied: cloudpickle in c:\\anaconda\\envs\\tfpy3.10\\lib\\site-packages (from shap) (3.0.0)\n",
      "Requirement already satisfied: colorama in c:\\anaconda\\envs\\tfpy3.10\\lib\\site-packages (from tqdm>=4.27.0->shap) (0.4.6)\n",
      "Requirement already satisfied: llvmlite<0.44,>=0.43.0dev0 in c:\\anaconda\\envs\\tfpy3.10\\lib\\site-packages (from numba->shap) (0.43.0)\n",
      "Requirement already satisfied: python-dateutil>=2.8.2 in c:\\anaconda\\envs\\tfpy3.10\\lib\\site-packages (from pandas->shap) (2.9.0.post0)\n",
      "Requirement already satisfied: pytz>=2020.1 in c:\\anaconda\\envs\\tfpy3.10\\lib\\site-packages (from pandas->shap) (2024.1)\n",
      "Requirement already satisfied: tzdata>=2022.7 in c:\\anaconda\\envs\\tfpy3.10\\lib\\site-packages (from pandas->shap) (2024.1)\n",
      "Requirement already satisfied: joblib>=1.2.0 in c:\\anaconda\\envs\\tfpy3.10\\lib\\site-packages (from scikit-learn->shap) (1.4.2)\n",
      "Requirement already satisfied: threadpoolctl>=3.1.0 in c:\\anaconda\\envs\\tfpy3.10\\lib\\site-packages (from scikit-learn->shap) (3.5.0)\n",
      "Requirement already satisfied: six>=1.5 in c:\\anaconda\\envs\\tfpy3.10\\lib\\site-packages (from python-dateutil>=2.8.2->pandas->shap) (1.16.0)\n",
      "Note: you may need to restart the kernel to use updated packages.\n"
     ]
    }
   ],
   "source": [
    "pip install shap"
   ]
  },
  {
   "cell_type": "code",
   "execution_count": 6,
   "id": "0386e3d2-c1ca-4845-9bd9-32eff66dd2ab",
   "metadata": {},
   "outputs": [],
   "source": [
    "import shap\n",
    "import numpy as np\n",
    "from tensorflow.keras.models import load_model\n",
    "import Library_load_and_split_data\n",
    "import Library_Net"
   ]
  },
  {
   "cell_type": "code",
   "execution_count": 7,
   "id": "b7d6b1fd-d3d4-459e-a085-dad5bdaa23fd",
   "metadata": {},
   "outputs": [],
   "source": [
    "# Loading our model\n",
    "model = load_model('model.h5')"
   ]
  },
  {
   "cell_type": "code",
   "execution_count": 11,
   "id": "77c46c38-953c-4218-b686-5ac685f566f9",
   "metadata": {},
   "outputs": [
    {
     "ename": "MemoryError",
     "evalue": "",
     "output_type": "error",
     "traceback": [
      "\u001b[1;31m---------------------------------------------------------------------------\u001b[0m",
      "\u001b[1;31mMemoryError\u001b[0m                               Traceback (most recent call last)",
      "Cell \u001b[1;32mIn[11], line 9\u001b[0m\n\u001b[0;32m      6\u001b[0m NL \u001b[38;5;241m=\u001b[39m \u001b[38;5;241m-\u001b[39m\u001b[38;5;241m1\u001b[39m\n\u001b[0;32m      8\u001b[0m \u001b[38;5;66;03m# Load a smaller subset of the data\u001b[39;00m\n\u001b[1;32m----> 9\u001b[0m X, Y \u001b[38;5;241m=\u001b[39m \u001b[43mLibrary_load_and_split_data\u001b[49m\u001b[38;5;241;43m.\u001b[39;49m\u001b[43mload_preloaded_data\u001b[49m\u001b[43m(\u001b[49m\u001b[43mCR\u001b[49m\u001b[38;5;241;43m=\u001b[39;49m\u001b[43mcr\u001b[49m\u001b[43m,\u001b[49m\u001b[43m \u001b[49m\u001b[43mW\u001b[49m\u001b[38;5;241;43m=\u001b[39;49m\u001b[43mwindow\u001b[49m\u001b[43m,\u001b[49m\u001b[43m \u001b[49m\u001b[43mNoise\u001b[49m\u001b[38;5;241;43m=\u001b[39;49m\u001b[43mNoise\u001b[49m\u001b[43m,\u001b[49m\u001b[43m \u001b[49m\u001b[43mNoise_level\u001b[49m\u001b[38;5;241;43m=\u001b[39;49m\u001b[43mNL\u001b[49m\u001b[43m,\u001b[49m\u001b[43m \u001b[49m\u001b[43mdatasetName\u001b[49m\u001b[38;5;241;43m=\u001b[39;49m\u001b[38;5;124;43m\"\u001b[39;49m\u001b[38;5;124;43mZ24\u001b[39;49m\u001b[38;5;124;43m\"\u001b[39;49m\u001b[43m)\u001b[49m\n\u001b[0;32m     10\u001b[0m X \u001b[38;5;241m=\u001b[39m X[:\u001b[38;5;241m500\u001b[39m]  \u001b[38;5;66;03m# Take the first 500 samples\u001b[39;00m\n\u001b[0;32m     11\u001b[0m Y \u001b[38;5;241m=\u001b[39m Y[:\u001b[38;5;241m500\u001b[39m]\n",
      "File \u001b[1;32m~\\TII_rep\\CodeUnibo\\Library_load_and_split_data.py:904\u001b[0m, in \u001b[0;36mload_preloaded_data\u001b[1;34m(CR, W, Noise, Noise_level, datasetName)\u001b[0m\n\u001b[0;32m    902\u001b[0m \u001b[38;5;28;01mif\u001b[39;00m Noise \u001b[38;5;241m==\u001b[39m\u001b[38;5;28;01mFalse\u001b[39;00m:\n\u001b[0;32m    903\u001b[0m     \u001b[38;5;28;01mwith\u001b[39;00m \u001b[38;5;28mopen\u001b[39m(\u001b[38;5;124m'\u001b[39m\u001b[38;5;124m../dataset/\u001b[39m\u001b[38;5;124m'\u001b[39m\u001b[38;5;241m+\u001b[39mdatasetName\u001b[38;5;241m+\u001b[39m\u001b[38;5;124m'\u001b[39m\u001b[38;5;124m/preloadedData_CR\u001b[39m\u001b[38;5;124m'\u001b[39m\u001b[38;5;241m+\u001b[39m\u001b[38;5;28mstr\u001b[39m(CR)\u001b[38;5;241m+\u001b[39m\u001b[38;5;124m'\u001b[39m\u001b[38;5;124m_W\u001b[39m\u001b[38;5;124m'\u001b[39m\u001b[38;5;241m+\u001b[39m\u001b[38;5;28mstr\u001b[39m(W)\u001b[38;5;241m+\u001b[39m\u001b[38;5;124m'\u001b[39m\u001b[38;5;124m_Noise\u001b[39m\u001b[38;5;124m'\u001b[39m\u001b[38;5;241m+\u001b[39m\u001b[38;5;28mstr\u001b[39m(Noise)\u001b[38;5;241m+\u001b[39m\u001b[38;5;124m'\u001b[39m\u001b[38;5;124m.pickle\u001b[39m\u001b[38;5;124m'\u001b[39m, \u001b[38;5;124m'\u001b[39m\u001b[38;5;124mrb\u001b[39m\u001b[38;5;124m'\u001b[39m) \u001b[38;5;28;01mas\u001b[39;00m f:\n\u001b[1;32m--> 904\u001b[0m         loaded_obj \u001b[38;5;241m=\u001b[39m \u001b[43mpickle\u001b[49m\u001b[38;5;241;43m.\u001b[39;49m\u001b[43mload\u001b[49m\u001b[43m(\u001b[49m\u001b[43mf\u001b[49m\u001b[43m)\u001b[49m\n\u001b[0;32m    905\u001b[0m         X \u001b[38;5;241m=\u001b[39m loaded_obj[\u001b[38;5;124m'\u001b[39m\u001b[38;5;124mX\u001b[39m\u001b[38;5;124m'\u001b[39m]\n\u001b[0;32m    906\u001b[0m         Y \u001b[38;5;241m=\u001b[39m loaded_obj[\u001b[38;5;124m'\u001b[39m\u001b[38;5;124mY\u001b[39m\u001b[38;5;124m'\u001b[39m]\n",
      "\u001b[1;31mMemoryError\u001b[0m: "
     ]
    }
   ],
   "source": [
    "# Load the dataset and preprocess it as done during training\n",
    "cr = 8\n",
    "window = 512\n",
    "sens = 8\n",
    "Noise = False\n",
    "NL = -1\n",
    "\n",
    "# Load a smaller subset of the data\n",
    "X, Y = Library_load_and_split_data.load_preloaded_data(CR=cr, W=window, Noise=Noise, Noise_level=NL, datasetName=\"Z24\")\n",
    "X = X[:500]  # Take the first 500 samples\n",
    "Y = Y[:500]\n",
    "Xd = Library_load_and_split_data.reshape_data_keras(X, cr=cr, window=window, nsens=sens)"
   ]
  },
  {
   "cell_type": "code",
   "execution_count": null,
   "id": "31af10ac-2e6f-4998-9714-82a11df0ca13",
   "metadata": {},
   "outputs": [],
   "source": []
  }
 ],
 "metadata": {
  "kernelspec": {
   "display_name": "Python 3 (ipykernel)",
   "language": "python",
   "name": "python3"
  },
  "language_info": {
   "codemirror_mode": {
    "name": "ipython",
    "version": 3
   },
   "file_extension": ".py",
   "mimetype": "text/x-python",
   "name": "python",
   "nbconvert_exporter": "python",
   "pygments_lexer": "ipython3",
   "version": "3.10.14"
  }
 },
 "nbformat": 4,
 "nbformat_minor": 5
}
