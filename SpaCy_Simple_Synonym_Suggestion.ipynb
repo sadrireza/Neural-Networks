{
  "nbformat": 4,
  "nbformat_minor": 0,
  "metadata": {
    "colab": {
      "provenance": [],
      "include_colab_link": true
    },
    "kernelspec": {
      "name": "python3",
      "display_name": "Python 3"
    },
    "language_info": {
      "name": "python"
    }
  },
  "cells": [
    {
      "cell_type": "markdown",
      "metadata": {
        "id": "view-in-github",
        "colab_type": "text"
      },
      "source": [
        "<a href=\"https://colab.research.google.com/github/sadrireza/Neural-Networks/blob/main/SpaCy_Simple_Synonym_Suggestion.ipynb\" target=\"_parent\"><img src=\"https://colab.research.google.com/assets/colab-badge.svg\" alt=\"Open In Colab\"/></a>"
      ]
    },
    {
      "cell_type": "markdown",
      "source": [
        "# Basic Synonym Suggestion Using Spacy-NLTK\n",
        "\n"
      ],
      "metadata": {
        "id": "AIaXy2PBYwPk"
      }
    },
    {
      "cell_type": "markdown",
      "source": [
        "1- Importing SpaCy"
      ],
      "metadata": {
        "id": "6jme19jGy7cT"
      }
    },
    {
      "cell_type": "code",
      "execution_count": null,
      "metadata": {
        "id": "SHIAwxvKy53e"
      },
      "outputs": [],
      "source": [
        "import spacy\n",
        "import nltk\n",
        "from nltk.corpus import wordnet\n",
        "from nltk.stem import WordNetLemmatizer"
      ]
    },
    {
      "cell_type": "code",
      "source": [
        "# Load the spaCy model for English language\n",
        "nlp = spacy.load(\"en_core_web_sm\")\n",
        "nltk.download('wordnet')\n"
      ],
      "metadata": {
        "colab": {
          "base_uri": "https://localhost:8080/"
        },
        "id": "LdMGX5t6zEhb",
        "outputId": "30a92a81-7643-4405-8c1a-76acd5a66cbc"
      },
      "execution_count": null,
      "outputs": [
        {
          "output_type": "stream",
          "name": "stderr",
          "text": [
            "[nltk_data] Downloading package wordnet to /root/nltk_data...\n"
          ]
        },
        {
          "output_type": "execute_result",
          "data": {
            "text/plain": [
              "True"
            ]
          },
          "metadata": {},
          "execution_count": 8
        }
      ]
    },
    {
      "cell_type": "markdown",
      "source": [
        "2- Processing the Text"
      ],
      "metadata": {
        "id": "_PtzrZz6y7-D"
      }
    },
    {
      "cell_type": "code",
      "source": [
        "def correct_syntax(text):\n",
        "    # Process the text using spaCy\n",
        "    doc = nlp(text)\n",
        "\n",
        "    # Initialize an empty list to store corrected tokens\n",
        "    corrected_tokens = []\n",
        "\n",
        "    # Iterate over each token in the document\n",
        "    for token in doc:\n",
        "        # Check if the token is a noun or verb and suggest synonyms\n",
        "        if token.pos_ == \"NOUN\" or token.pos_ == \"VERB\":\n",
        "            synonyms = get_synonyms(token.text)\n",
        "            corrected_tokens.append(synonyms[0])\n",
        "        else:\n",
        "            corrected_tokens.append(token.text)\n",
        "\n",
        "    # Join the corrected tokens back into a string\n",
        "    corrected_text = \" \".join(corrected_tokens)\n",
        "\n",
        "    return corrected_text"
      ],
      "metadata": {
        "id": "BLl23prvy8KM"
      },
      "execution_count": null,
      "outputs": []
    },
    {
      "cell_type": "markdown",
      "source": [
        "3- Finding Synonyms"
      ],
      "metadata": {
        "id": "Sv6WFKRIy8SV"
      }
    },
    {
      "cell_type": "code",
      "source": [
        "def get_synonyms(word):\n",
        "    # Initialize an empty list to store synonyms\n",
        "    synonyms = []\n",
        "\n",
        "    # Use WordNet to find synonyms for the word\n",
        "    synsets = wordnet.synsets(word)\n",
        "\n",
        "    # Iterate over each synset and add its lemmas to the list of synonyms\n",
        "    for synset in synsets:\n",
        "        for lemma in synset.lemmas():\n",
        "            synonyms.append(lemma.name())\n",
        "\n",
        "    return synonyms"
      ],
      "metadata": {
        "id": "OITsIM1My8Zz"
      },
      "execution_count": null,
      "outputs": []
    },
    {
      "cell_type": "markdown",
      "source": [
        "4-Getting Synonyms"
      ],
      "metadata": {
        "id": "UHaAijyJzYKl"
      }
    },
    {
      "cell_type": "code",
      "source": [
        "# Test the function with a sample text\n",
        "text = \"The quick brown fox jumps over the lazy dog.\"\n",
        "corrected_text = correct_syntax(text)\n",
        "print(corrected_text)\n",
        "\n",
        "# Get synonyms for each word in the corrected text\n",
        "for word in nlp(corrected_text):\n",
        "    print(f\"Word: {word.text}, Synonyms: {get_synonyms(word.text)}\")"
      ],
      "metadata": {
        "colab": {
          "base_uri": "https://localhost:8080/"
        },
        "id": "wwrjraxqzdu0",
        "outputId": "fcdaa83b-c999-4e41-8cbe-31a0ef01bdf2"
      },
      "execution_count": null,
      "outputs": [
        {
          "output_type": "stream",
          "name": "stdout",
          "text": [
            "The quick brown fox jump over the lazy dog .\n",
            "Word: The, Synonyms: []\n",
            "Word: quick, Synonyms: ['quick', 'quick', 'speedy', 'flying', 'quick', 'fast', 'agile', 'nimble', 'quick', 'spry', 'quick', 'ready', 'immediate', 'prompt', 'quick', 'straightaway', 'quick', 'warm', 'promptly', 'quickly', 'quick']\n",
            "Word: brown, Synonyms: ['brown', 'brownness', 'Brown', 'Robert_Brown', 'Brown', 'John_Brown', 'Brown_University', 'Brown', 'brown', 'embrown', 'brown', 'brown', 'brownish', 'chocolate-brown', 'dark-brown', 'brown', 'browned']\n",
            "Word: fox, Synonyms: ['fox', 'dodger', 'fox', 'slyboots', 'fox', 'Fox', 'Charles_James_Fox', 'Fox', 'George_Fox', 'Fox', 'Fox', 'flim-flam', 'play_a_joke_on', 'play_tricks', 'trick', 'fob', 'fox', 'pull_a_fast_one_on', 'play_a_trick_on', 'confuse', 'throw', 'fox', 'befuddle', 'fuddle', 'bedevil', 'confound', 'discombobulate', 'fox']\n",
            "Word: jump, Synonyms: ['jump', 'leap', 'leap', 'jump', 'saltation', 'jump', 'startle', 'jump', 'start', 'jump', 'parachuting', 'jump', 'jumping', 'jump', 'leap', 'bound', 'spring', 'startle', 'jump', 'start', 'jump', 'jump', 'leap_out', 'jump_out', 'jump', 'stand_out', 'stick_out', 'jump', 'rise', 'jump', 'climb_up', 'jump', 'leap', 'jump_off', 'derail', 'jump', 'chute', 'parachute', 'jump', 'jump', 'leap', 'jumpstart', 'jump-start', 'jump', 'jump', 'pass_over', 'skip', 'skip_over', 'leap', 'jump', 'alternate', 'jump']\n",
            "Word: over, Synonyms: ['over', 'complete', 'concluded', 'ended', 'over', 'all_over', 'terminated', 'over', 'over', 'over', \"o'er\", 'over', 'all_over', 'over']\n",
            "Word: the, Synonyms: []\n",
            "Word: lazy, Synonyms: ['lazy', 'faineant', 'indolent', 'lazy', 'otiose', 'slothful', 'work-shy']\n",
            "Word: dog, Synonyms: ['dog', 'domestic_dog', 'Canis_familiaris', 'frump', 'dog', 'dog', 'cad', 'bounder', 'blackguard', 'dog', 'hound', 'heel', 'frank', 'frankfurter', 'hotdog', 'hot_dog', 'dog', 'wiener', 'wienerwurst', 'weenie', 'pawl', 'detent', 'click', 'dog', 'andiron', 'firedog', 'dog', 'dog-iron', 'chase', 'chase_after', 'trail', 'tail', 'tag', 'give_chase', 'dog', 'go_after', 'track']\n",
            "Word: ., Synonyms: []\n"
          ]
        }
      ]
    }
  ]
}