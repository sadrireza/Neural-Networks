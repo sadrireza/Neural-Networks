{
  "nbformat": 4,
  "nbformat_minor": 0,
  "metadata": {
    "colab": {
      "provenance": [],
      "toc_visible": true,
      "authorship_tag": "ABX9TyMrTSAitWnVBU3K62VVUrbz",
      "include_colab_link": true
    },
    "kernelspec": {
      "name": "python3",
      "display_name": "Python 3"
    },
    "language_info": {
      "name": "python"
    }
  },
  "cells": [
    {
      "cell_type": "markdown",
      "metadata": {
        "id": "view-in-github",
        "colab_type": "text"
      },
      "source": [
        "<a href=\"https://colab.research.google.com/github/sadrireza/Neural-Networks/blob/main/Pytorch_Basics.ipynb\" target=\"_parent\"><img src=\"https://colab.research.google.com/assets/colab-badge.svg\" alt=\"Open In Colab\"/></a>"
      ]
    },
    {
      "cell_type": "markdown",
      "source": [
        "## Imports"
      ],
      "metadata": {
        "id": "o5rrWs9j_4OS"
      }
    },
    {
      "cell_type": "code",
      "execution_count": 2,
      "metadata": {
        "id": "4urX4gZl_EfR"
      },
      "outputs": [],
      "source": [
        "import torch\n",
        "import numpy as np"
      ]
    },
    {
      "cell_type": "code",
      "source": [
        "torch.__version__"
      ],
      "metadata": {
        "colab": {
          "base_uri": "https://localhost:8080/",
          "height": 36
        },
        "id": "CIrOCpQZAEmI",
        "outputId": "63fc614b-7261-48ad-b3b1-2592c1bbef16"
      },
      "execution_count": 3,
      "outputs": [
        {
          "output_type": "execute_result",
          "data": {
            "text/plain": [
              "'2.5.0+cu121'"
            ],
            "application/vnd.google.colaboratory.intrinsic+json": {
              "type": "string"
            }
          },
          "metadata": {},
          "execution_count": 3
        }
      ]
    },
    {
      "cell_type": "markdown",
      "source": [
        "## Tensor Initialization"
      ],
      "metadata": {
        "id": "gkDAgXCLAgRu"
      }
    },
    {
      "cell_type": "markdown",
      "source": [
        "### From Data"
      ],
      "metadata": {
        "id": "PpGJj0sRAl19"
      }
    },
    {
      "cell_type": "code",
      "source": [
        "data = [[1.,2.],[3.,4.]]\n",
        "type(data)"
      ],
      "metadata": {
        "colab": {
          "base_uri": "https://localhost:8080/"
        },
        "id": "16lC8W2rAOTM",
        "outputId": "89192578-e974-485c-b26e-cbcc1dc3e181"
      },
      "execution_count": 4,
      "outputs": [
        {
          "output_type": "execute_result",
          "data": {
            "text/plain": [
              "list"
            ]
          },
          "metadata": {},
          "execution_count": 4
        }
      ]
    },
    {
      "cell_type": "code",
      "source": [
        "data_tensor = torch.tensor(data, dtype=torch.int32) #always uses a copy of our data\n",
        "print(data_tensor)\n",
        "print(data_tensor.dtype)"
      ],
      "metadata": {
        "colab": {
          "base_uri": "https://localhost:8080/"
        },
        "id": "Q-mCJTpFAuwm",
        "outputId": "a92675f6-ab56-4ea0-b542-aa9e1b759ea8"
      },
      "execution_count": 5,
      "outputs": [
        {
          "output_type": "stream",
          "name": "stdout",
          "text": [
            "tensor([[1, 2],\n",
            "        [3, 4]], dtype=torch.int32)\n",
            "torch.int32\n"
          ]
        }
      ]
    },
    {
      "cell_type": "markdown",
      "source": [
        "### From Numpy Arrays"
      ],
      "metadata": {
        "id": "0vOYn7r2arNW"
      }
    },
    {
      "cell_type": "code",
      "source": [
        "'''\n",
        "while we are using this method, any change in tensor will lead to change in\n",
        "numpy array and vice versa\n",
        "'''"
      ],
      "metadata": {
        "id": "vJfni0knco7V",
        "colab": {
          "base_uri": "https://localhost:8080/",
          "height": 36
        },
        "outputId": "717c5db4-9d1b-4272-ed18-1691b7f2e59e"
      },
      "execution_count": 6,
      "outputs": [
        {
          "output_type": "execute_result",
          "data": {
            "text/plain": [
              "'\\nwhile we are using this method, any change in tensor will lead to change in\\nnumpy array and vice versa\\n'"
            ],
            "application/vnd.google.colaboratory.intrinsic+json": {
              "type": "string"
            }
          },
          "metadata": {},
          "execution_count": 6
        }
      ]
    },
    {
      "cell_type": "code",
      "source": [
        "#torch.from_numpy()\n",
        "data_array = np.array(data)\n",
        "tensor_a = torch.from_numpy(data_array) #uses original data\n",
        "print(tensor_a)\n",
        "print(tensor_a.dtype)"
      ],
      "metadata": {
        "colab": {
          "base_uri": "https://localhost:8080/"
        },
        "id": "obMceCXoBUJK",
        "outputId": "e4b21226-e0bf-4d6e-d13f-ab59acf53e3d"
      },
      "execution_count": 7,
      "outputs": [
        {
          "output_type": "stream",
          "name": "stdout",
          "text": [
            "tensor([[1., 2.],\n",
            "        [3., 4.]], dtype=torch.float64)\n",
            "torch.float64\n"
          ]
        }
      ]
    },
    {
      "cell_type": "code",
      "source": [
        "#torch.as_tensor()\n",
        "tensor_b = torch.as_tensor(data) #uses original data\n",
        "print(tensor_b)\n",
        "print(tensor_b.dtype)"
      ],
      "metadata": {
        "colab": {
          "base_uri": "https://localhost:8080/"
        },
        "id": "DLuq5ztba2GI",
        "outputId": "42cc0064-7eb7-4708-d83e-72b962ca5831"
      },
      "execution_count": 8,
      "outputs": [
        {
          "output_type": "stream",
          "name": "stdout",
          "text": [
            "tensor([[1., 2.],\n",
            "        [3., 4.]])\n",
            "torch.float32\n"
          ]
        }
      ]
    },
    {
      "cell_type": "markdown",
      "source": [
        "## With Random or Constant Values"
      ],
      "metadata": {
        "id": "QmxYSRdph5lz"
      }
    },
    {
      "cell_type": "code",
      "source": [
        "#torch.zeros()\n",
        "zeros_tensor = torch.zeros(size=(3,4)) #dtype is always float32 by default\n",
        "print (zeros_tensor)"
      ],
      "metadata": {
        "id": "HTXe9MY3blLM",
        "colab": {
          "base_uri": "https://localhost:8080/"
        },
        "outputId": "fdb5031b-a59f-4a35-b1bf-a7c5585821ef"
      },
      "execution_count": 9,
      "outputs": [
        {
          "output_type": "stream",
          "name": "stdout",
          "text": [
            "tensor([[0., 0., 0., 0.],\n",
            "        [0., 0., 0., 0.],\n",
            "        [0., 0., 0., 0.]])\n"
          ]
        }
      ]
    },
    {
      "cell_type": "code",
      "source": [
        "#torch.ones()\n",
        "ones_tensor = torch.ones(3,4)\n",
        "ones_tensor"
      ],
      "metadata": {
        "colab": {
          "base_uri": "https://localhost:8080/"
        },
        "id": "DfBjoUbFiNGj",
        "outputId": "156e9916-5af0-4f77-a096-23aa19e75022"
      },
      "execution_count": 10,
      "outputs": [
        {
          "output_type": "execute_result",
          "data": {
            "text/plain": [
              "tensor([[1., 1., 1., 1.],\n",
              "        [1., 1., 1., 1.],\n",
              "        [1., 1., 1., 1.]])"
            ]
          },
          "metadata": {},
          "execution_count": 10
        }
      ]
    },
    {
      "cell_type": "code",
      "source": [
        "torch.eye(3) #identity matrix"
      ],
      "metadata": {
        "colab": {
          "base_uri": "https://localhost:8080/"
        },
        "id": "NDd6Z5pDilj8",
        "outputId": "7742a293-c2f6-41fd-e715-aaa6d4b019ec"
      },
      "execution_count": 11,
      "outputs": [
        {
          "output_type": "execute_result",
          "data": {
            "text/plain": [
              "tensor([[1., 0., 0.],\n",
              "        [0., 1., 0.],\n",
              "        [0., 0., 1.]])"
            ]
          },
          "metadata": {},
          "execution_count": 11
        }
      ]
    },
    {
      "cell_type": "code",
      "source": [
        "rand_tensor = torch.rand(3,4)\n",
        "rand_tensor"
      ],
      "metadata": {
        "colab": {
          "base_uri": "https://localhost:8080/"
        },
        "id": "Pq7s-q_girdS",
        "outputId": "a7e7fda3-795f-4c83-b1f1-adc6e1a5c894"
      },
      "execution_count": 12,
      "outputs": [
        {
          "output_type": "execute_result",
          "data": {
            "text/plain": [
              "tensor([[0.4123, 0.1879, 0.4572, 0.4793],\n",
              "        [0.1516, 0.2924, 0.2852, 0.6080],\n",
              "        [0.4540, 0.5629, 0.7758, 0.3420]])"
            ]
          },
          "metadata": {},
          "execution_count": 12
        }
      ]
    },
    {
      "cell_type": "code",
      "source": [
        "randn_tensor = torch.randn(3,4) #rand normal\n",
        "randn_tensor"
      ],
      "metadata": {
        "colab": {
          "base_uri": "https://localhost:8080/"
        },
        "id": "Nrg9stMtiz1p",
        "outputId": "0497beaa-061c-4195-9a3c-aaa2ac06675e"
      },
      "execution_count": 13,
      "outputs": [
        {
          "output_type": "execute_result",
          "data": {
            "text/plain": [
              "tensor([[ 0.3679, -0.2685,  0.5390,  0.0778],\n",
              "        [-0.1120, -0.1437, -1.3962, -0.8699],\n",
              "        [ 0.6206,  1.9942,  0.7525,  0.8611]])"
            ]
          },
          "metadata": {},
          "execution_count": 13
        }
      ]
    },
    {
      "cell_type": "code",
      "source": [
        "randint_tensor = torch.randint(low=0, high=10, size=(3,4))\n",
        "randint_tensor"
      ],
      "metadata": {
        "colab": {
          "base_uri": "https://localhost:8080/"
        },
        "id": "77Ftk8dki4Pt",
        "outputId": "56fbe7a8-6bd6-478c-c7a6-51ce020841e9"
      },
      "execution_count": 14,
      "outputs": [
        {
          "output_type": "execute_result",
          "data": {
            "text/plain": [
              "tensor([[0, 4, 9, 7],\n",
              "        [1, 2, 3, 2],\n",
              "        [2, 0, 8, 2]])"
            ]
          },
          "metadata": {},
          "execution_count": 14
        }
      ]
    },
    {
      "cell_type": "code",
      "source": [
        "base = [[1,2,3],[4,5,6],[7,8,9]]\n",
        "base_tensor = torch.tensor(base, dtype = torch.float32)\n",
        "base_tensor"
      ],
      "metadata": {
        "colab": {
          "base_uri": "https://localhost:8080/"
        },
        "id": "3RVB_MABjK7Y",
        "outputId": "c3ffbdb9-be05-4927-b332-23bdec69c183"
      },
      "execution_count": 15,
      "outputs": [
        {
          "output_type": "execute_result",
          "data": {
            "text/plain": [
              "tensor([[1., 2., 3.],\n",
              "        [4., 5., 6.],\n",
              "        [7., 8., 9.]])"
            ]
          },
          "metadata": {},
          "execution_count": 15
        }
      ]
    },
    {
      "cell_type": "code",
      "source": [
        "randlike_tensor = torch.rand_like(base_tensor)\n",
        "randlike_tensor #A random tensor with the length equal to base tensor"
      ],
      "metadata": {
        "colab": {
          "base_uri": "https://localhost:8080/"
        },
        "id": "k1sOYMdOjjsw",
        "outputId": "fa220afd-d5d5-4932-f37d-e7b72aba7213"
      },
      "execution_count": 16,
      "outputs": [
        {
          "output_type": "execute_result",
          "data": {
            "text/plain": [
              "tensor([[0.3691, 0.2785, 0.5871],\n",
              "        [0.5188, 0.9886, 0.6543],\n",
              "        [0.5992, 0.6607, 0.4372]])"
            ]
          },
          "metadata": {},
          "execution_count": 16
        }
      ]
    },
    {
      "cell_type": "code",
      "source": [
        "randint_like_tensor = torch.randint_like(base_tensor, low=0, high=10)\n",
        "randint_like_tensor"
      ],
      "metadata": {
        "colab": {
          "base_uri": "https://localhost:8080/"
        },
        "id": "mv-38-t2j8by",
        "outputId": "502c1900-fdd9-4e41-81e6-d6d237d121c4"
      },
      "execution_count": 17,
      "outputs": [
        {
          "output_type": "execute_result",
          "data": {
            "text/plain": [
              "tensor([[2., 5., 0.],\n",
              "        [2., 9., 7.],\n",
              "        [9., 2., 0.]])"
            ]
          },
          "metadata": {},
          "execution_count": 17
        }
      ]
    },
    {
      "cell_type": "code",
      "source": [
        "zeros_like_tensor = torch.zeros_like(base_tensor)\n",
        "zeros_like_tensor"
      ],
      "metadata": {
        "colab": {
          "base_uri": "https://localhost:8080/"
        },
        "id": "Sy5p3A8gkjor",
        "outputId": "96166c18-15f6-40dd-f13f-fb95541616d4"
      },
      "execution_count": 18,
      "outputs": [
        {
          "output_type": "execute_result",
          "data": {
            "text/plain": [
              "tensor([[0., 0., 0.],\n",
              "        [0., 0., 0.],\n",
              "        [0., 0., 0.]])"
            ]
          },
          "metadata": {},
          "execution_count": 18
        }
      ]
    },
    {
      "cell_type": "code",
      "source": [
        "ones_like_tensor = torch.ones_like(base_tensor)\n",
        "ones_like_tensor"
      ],
      "metadata": {
        "colab": {
          "base_uri": "https://localhost:8080/"
        },
        "id": "9awF_UbpksnX",
        "outputId": "fb6aee92-1ddb-4fb1-ce59-c39db3dbaa1d"
      },
      "execution_count": 19,
      "outputs": [
        {
          "output_type": "execute_result",
          "data": {
            "text/plain": [
              "tensor([[1., 1., 1.],\n",
              "        [1., 1., 1.],\n",
              "        [1., 1., 1.]])"
            ]
          },
          "metadata": {},
          "execution_count": 19
        }
      ]
    },
    {
      "cell_type": "code",
      "source": [
        "empty_tensor = torch.empty(4,4) #uninitialized tensor\n",
        "empty_tensor #values we see are not our tensors values\n",
        "#we see values in our tensor which are value of the memory while we are creating our tensor"
      ],
      "metadata": {
        "colab": {
          "base_uri": "https://localhost:8080/"
        },
        "id": "zKBt9g0Yk0wZ",
        "outputId": "c5080f23-d6cf-4576-dc96-00336513d1dc"
      },
      "execution_count": 20,
      "outputs": [
        {
          "output_type": "execute_result",
          "data": {
            "text/plain": [
              "tensor([[ 0.0000e+00,  0.0000e+00, -1.9761e-38,  3.1892e-41],\n",
              "        [ 3.3246e+38,  3.1892e-41, -2.5608e-26,  4.3959e-41],\n",
              "        [ 1.4013e-45,  0.0000e+00,  1.2612e-44,  0.0000e+00],\n",
              "        [ 0.0000e+00,  0.0000e+00,  0.0000e+00,  0.0000e+00]])"
            ]
          },
          "metadata": {},
          "execution_count": 20
        }
      ]
    },
    {
      "cell_type": "code",
      "source": [
        "A = torch.diag(torch.rand(3)) #diagonal tensor\n",
        "A"
      ],
      "metadata": {
        "colab": {
          "base_uri": "https://localhost:8080/"
        },
        "id": "7DFBt22ClBFG",
        "outputId": "1d2df241-f867-404e-bd15-10dd0ff71084"
      },
      "execution_count": 21,
      "outputs": [
        {
          "output_type": "execute_result",
          "data": {
            "text/plain": [
              "tensor([[0.9496, 0.0000, 0.0000],\n",
              "        [0.0000, 0.5232, 0.0000],\n",
              "        [0.0000, 0.0000, 0.4362]])"
            ]
          },
          "metadata": {},
          "execution_count": 21
        }
      ]
    },
    {
      "cell_type": "markdown",
      "source": [
        "## Creating Tensors from Ranges"
      ],
      "metadata": {
        "id": "7fcQzFEXl4g3"
      }
    },
    {
      "cell_type": "code",
      "source": [
        "#torch.arange()\n",
        "#torch.linspace()"
      ],
      "metadata": {
        "id": "SjeC5aNRlp6l"
      },
      "execution_count": 22,
      "outputs": []
    },
    {
      "cell_type": "code",
      "source": [
        "arange_tensor = torch.arange(5)\n",
        "arange_tensor"
      ],
      "metadata": {
        "colab": {
          "base_uri": "https://localhost:8080/"
        },
        "id": "YDLZK8sGpg0D",
        "outputId": "848a2e14-3a70-4bd1-a4d1-6c9e9def019c"
      },
      "execution_count": 23,
      "outputs": [
        {
          "output_type": "execute_result",
          "data": {
            "text/plain": [
              "tensor([0, 1, 2, 3, 4])"
            ]
          },
          "metadata": {},
          "execution_count": 23
        }
      ]
    },
    {
      "cell_type": "code",
      "source": [
        "arange_tensor2 = torch.arange(0,10,2) #start point is inclusive\n",
        "arange_tensor2 #end point is exclusive"
      ],
      "metadata": {
        "colab": {
          "base_uri": "https://localhost:8080/"
        },
        "id": "8BnygrKapnVt",
        "outputId": "7af93ec2-40da-4416-a3af-3e55ecd5eabc"
      },
      "execution_count": 24,
      "outputs": [
        {
          "output_type": "execute_result",
          "data": {
            "text/plain": [
              "tensor([0, 2, 4, 6, 8])"
            ]
          },
          "metadata": {},
          "execution_count": 24
        }
      ]
    },
    {
      "cell_type": "code",
      "source": [
        "torch_arange3 = torch.arange(0,13,1.5, dtype=torch.float32)\n",
        "torch_arange3"
      ],
      "metadata": {
        "colab": {
          "base_uri": "https://localhost:8080/"
        },
        "id": "PcmLzSpCprPX",
        "outputId": "eb2b85eb-b45f-42c6-81d6-6c47f3635b0c"
      },
      "execution_count": 25,
      "outputs": [
        {
          "output_type": "execute_result",
          "data": {
            "text/plain": [
              "tensor([ 0.0000,  1.5000,  3.0000,  4.5000,  6.0000,  7.5000,  9.0000, 10.5000,\n",
              "        12.0000])"
            ]
          },
          "metadata": {},
          "execution_count": 25
        }
      ]
    },
    {
      "cell_type": "code",
      "source": [
        "linspace_tensor = torch.linspace(0,10, steps=5)\n",
        "linspace_tensor"
      ],
      "metadata": {
        "colab": {
          "base_uri": "https://localhost:8080/"
        },
        "id": "Xdg1RGKfpz05",
        "outputId": "c83b9a1e-5fe2-4fad-e49a-c8b331786313"
      },
      "execution_count": 26,
      "outputs": [
        {
          "output_type": "execute_result",
          "data": {
            "text/plain": [
              "tensor([ 0.0000,  2.5000,  5.0000,  7.5000, 10.0000])"
            ]
          },
          "metadata": {},
          "execution_count": 26
        }
      ]
    },
    {
      "cell_type": "code",
      "source": [
        "linspace_tensor2 = torch.linspace(0,11, steps=7, dtype=torch.float32)\n",
        "linspace_tensor2"
      ],
      "metadata": {
        "colab": {
          "base_uri": "https://localhost:8080/"
        },
        "id": "ov7lID8Ap9a1",
        "outputId": "ede0d6fc-9c25-4464-a437-42e59b848a38"
      },
      "execution_count": 27,
      "outputs": [
        {
          "output_type": "execute_result",
          "data": {
            "text/plain": [
              "tensor([ 0.0000,  1.8333,  3.6667,  5.5000,  7.3333,  9.1667, 11.0000])"
            ]
          },
          "metadata": {},
          "execution_count": 27
        }
      ]
    },
    {
      "cell_type": "markdown",
      "source": [
        "## Attributes"
      ],
      "metadata": {
        "id": "fRclys8eqiSQ"
      }
    },
    {
      "cell_type": "code",
      "source": [
        "# tensor.shape()\n",
        "# tensor.size()\n",
        "#tensor.dtype()\n",
        "#tensor.device()"
      ],
      "metadata": {
        "id": "0R8VdzU0qMoQ"
      },
      "execution_count": 28,
      "outputs": []
    },
    {
      "cell_type": "code",
      "source": [
        "my_tensor = torch.rand(3,4)\n",
        "my_tensor"
      ],
      "metadata": {
        "colab": {
          "base_uri": "https://localhost:8080/"
        },
        "id": "GV77ZFRrrN-k",
        "outputId": "67d8b9ff-42fa-4f79-9388-519a8810a3fe"
      },
      "execution_count": 29,
      "outputs": [
        {
          "output_type": "execute_result",
          "data": {
            "text/plain": [
              "tensor([[0.6064, 0.7043, 0.4820, 0.7253],\n",
              "        [0.1754, 0.2908, 0.3324, 0.5191],\n",
              "        [0.6196, 0.4017, 0.3589, 0.1028]])"
            ]
          },
          "metadata": {},
          "execution_count": 29
        }
      ]
    },
    {
      "cell_type": "code",
      "source": [
        "print(f'shape of my tensor is: {my_tensor.shape}')\n",
        "print(f'size of my tensor is: {my_tensor.size()}')\n",
        "print(f'dtype of my tensor is: {my_tensor.dtype}')\n",
        "print(f'device of my tensor is: {my_tensor.device}')"
      ],
      "metadata": {
        "colab": {
          "base_uri": "https://localhost:8080/"
        },
        "id": "UwwZE_WwrrOd",
        "outputId": "b18db1aa-ef78-401b-a27e-dfc105f47c15"
      },
      "execution_count": 30,
      "outputs": [
        {
          "output_type": "stream",
          "name": "stdout",
          "text": [
            "shape of my tensor is: torch.Size([3, 4])\n",
            "size of my tensor is: torch.Size([3, 4])\n",
            "dtype of my tensor is: torch.float32\n",
            "device of my tensor is: cpu\n"
          ]
        }
      ]
    },
    {
      "cell_type": "code",
      "source": [
        "#How to change device\n",
        "# my_tensor = my_tensor.to('cuda')\n",
        "#or\n",
        "device = 'cuda' if torch.cuda.is_available() else 'cpu'\n",
        "device"
      ],
      "metadata": {
        "colab": {
          "base_uri": "https://localhost:8080/",
          "height": 36
        },
        "id": "YujSkaxcw5gf",
        "outputId": "515bdae2-2e60-44a1-b8d3-3a50a5456cf0"
      },
      "execution_count": 31,
      "outputs": [
        {
          "output_type": "execute_result",
          "data": {
            "text/plain": [
              "'cpu'"
            ],
            "application/vnd.google.colaboratory.intrinsic+json": {
              "type": "string"
            }
          },
          "metadata": {},
          "execution_count": 31
        }
      ]
    },
    {
      "cell_type": "code",
      "source": [
        "'''\n",
        "if we change our device to cuda, we can\n",
        "transfer out tensor to cuda and vice versa\n",
        "my_tensor = my_tensor.to(device)\n",
        "'''"
      ],
      "metadata": {
        "colab": {
          "base_uri": "https://localhost:8080/",
          "height": 36
        },
        "id": "hZwLt7o80agE",
        "outputId": "8bb9ef77-3947-4e03-dc07-031d55723801"
      },
      "execution_count": 32,
      "outputs": [
        {
          "output_type": "execute_result",
          "data": {
            "text/plain": [
              "'\\nif we change our device to cuda, we can\\ntransfer out tensor to cuda and vice versa\\nmy_tensor = my_tensor.to(device)\\n'"
            ],
            "application/vnd.google.colaboratory.intrinsic+json": {
              "type": "string"
            }
          },
          "metadata": {},
          "execution_count": 32
        }
      ]
    },
    {
      "cell_type": "code",
      "source": [
        "!nvidia-smi #what is the cuda we are using"
      ],
      "metadata": {
        "colab": {
          "base_uri": "https://localhost:8080/"
        },
        "id": "I1b6pM-PzTLl",
        "outputId": "7b95156f-6374-4497-9a71-1f09b6f74e73"
      },
      "execution_count": 33,
      "outputs": [
        {
          "output_type": "stream",
          "name": "stdout",
          "text": [
            "/bin/bash: line 1: nvidia-smi: command not found\n"
          ]
        }
      ]
    },
    {
      "cell_type": "markdown",
      "source": [
        "## Operation on Tensors"
      ],
      "metadata": {
        "id": "TQk-n8Wa1Igb"
      }
    },
    {
      "cell_type": "markdown",
      "source": [
        "### Indexing and Slicing"
      ],
      "metadata": {
        "id": "95RRtD4_1Iak"
      }
    },
    {
      "cell_type": "code",
      "source": [
        "tensor = torch.randint(1,10, size=(4,4))\n",
        "tensor"
      ],
      "metadata": {
        "colab": {
          "base_uri": "https://localhost:8080/"
        },
        "id": "1FO-xcg61m03",
        "outputId": "0169dbd6-66a2-451d-d586-c781dd4a7e08"
      },
      "execution_count": 34,
      "outputs": [
        {
          "output_type": "execute_result",
          "data": {
            "text/plain": [
              "tensor([[7, 4, 6, 6],\n",
              "        [5, 5, 7, 5],\n",
              "        [4, 2, 3, 3],\n",
              "        [5, 1, 7, 9]])"
            ]
          },
          "metadata": {},
          "execution_count": 34
        }
      ]
    },
    {
      "cell_type": "code",
      "source": [
        "print(f'First row of tensor is: {tensor[0]}')\n",
        "print(f'First column of tensor is: {tensor[:,0]}')\n",
        "print(f'Last row of tensor is: {tensor[-1]}')\n",
        "print(f'Last column of tensor is: {tensor[:,-1]}')\n",
        "print(f'First 2 rows of tensor is: {tensor[:2]}')\n",
        "print(f'First 2 columns of tensor is: {tensor[:,:2]}')\n",
        "print(f'Last 2 rows of tensor is: {tensor[-2:]}')\n",
        "print(f'Last 2 columns of tensor is: {tensor[:,-2:]}')\n",
        "print(f'First 2 rows and 2 columns of tensor is: {tensor[:2,:2]}')\n",
        "print(f'Last 2 rows and 2 columns of tensor is: {tensor[-2:,-2:]}')"
      ],
      "metadata": {
        "colab": {
          "base_uri": "https://localhost:8080/"
        },
        "id": "qUOJ8lgm1_sz",
        "outputId": "69d98646-bd26-4855-c214-4f22a5fb53c8"
      },
      "execution_count": 35,
      "outputs": [
        {
          "output_type": "stream",
          "name": "stdout",
          "text": [
            "First row of tensor is: tensor([7, 4, 6, 6])\n",
            "First column of tensor is: tensor([7, 5, 4, 5])\n",
            "Last row of tensor is: tensor([5, 1, 7, 9])\n",
            "Last column of tensor is: tensor([6, 5, 3, 9])\n",
            "First 2 rows of tensor is: tensor([[7, 4, 6, 6],\n",
            "        [5, 5, 7, 5]])\n",
            "First 2 columns of tensor is: tensor([[7, 4],\n",
            "        [5, 5],\n",
            "        [4, 2],\n",
            "        [5, 1]])\n",
            "Last 2 rows of tensor is: tensor([[4, 2, 3, 3],\n",
            "        [5, 1, 7, 9]])\n",
            "Last 2 columns of tensor is: tensor([[6, 6],\n",
            "        [7, 5],\n",
            "        [3, 3],\n",
            "        [7, 9]])\n",
            "First 2 rows and 2 columns of tensor is: tensor([[7, 4],\n",
            "        [5, 5]])\n",
            "Last 2 rows and 2 columns of tensor is: tensor([[3, 3],\n",
            "        [7, 9]])\n"
          ]
        }
      ]
    },
    {
      "cell_type": "code",
      "source": [
        "tensor[:-1,:-1]\n"
      ],
      "metadata": {
        "colab": {
          "base_uri": "https://localhost:8080/"
        },
        "id": "gahl6t612val",
        "outputId": "deb812fc-af21-4e24-c911-4d029889a80f"
      },
      "execution_count": 36,
      "outputs": [
        {
          "output_type": "execute_result",
          "data": {
            "text/plain": [
              "tensor([[7, 4, 6],\n",
              "        [5, 5, 7],\n",
              "        [4, 2, 3]])"
            ]
          },
          "metadata": {},
          "execution_count": 36
        }
      ]
    },
    {
      "cell_type": "code",
      "source": [
        "tensor[:, 2] = 20\n",
        "tensor"
      ],
      "metadata": {
        "colab": {
          "base_uri": "https://localhost:8080/"
        },
        "id": "rgMeIiHz5Ona",
        "outputId": "752157dc-d69e-49f4-f937-9f8d5c337355"
      },
      "execution_count": 37,
      "outputs": [
        {
          "output_type": "execute_result",
          "data": {
            "text/plain": [
              "tensor([[ 7,  4, 20,  6],\n",
              "        [ 5,  5, 20,  5],\n",
              "        [ 4,  2, 20,  3],\n",
              "        [ 5,  1, 20,  9]])"
            ]
          },
          "metadata": {},
          "execution_count": 37
        }
      ]
    },
    {
      "cell_type": "markdown",
      "source": [
        "### Joining Tensors"
      ],
      "metadata": {
        "id": "9duvdwRj1ITA"
      }
    },
    {
      "cell_type": "code",
      "source": [
        "a = torch.randint(1,5, size=(3,3))\n",
        "b = torch.randint(5,10, size=(3,3))\n",
        "print(a)\n",
        "print(b)"
      ],
      "metadata": {
        "colab": {
          "base_uri": "https://localhost:8080/"
        },
        "id": "g78L8_uW1no7",
        "outputId": "6e35fb61-e913-4594-8bf1-fbc0eacf568d"
      },
      "execution_count": 38,
      "outputs": [
        {
          "output_type": "stream",
          "name": "stdout",
          "text": [
            "tensor([[4, 3, 3],\n",
            "        [3, 4, 4],\n",
            "        [2, 2, 1]])\n",
            "tensor([[8, 5, 8],\n",
            "        [6, 7, 6],\n",
            "        [5, 5, 8]])\n"
          ]
        }
      ]
    },
    {
      "cell_type": "code",
      "source": [
        "#torch.cat\n",
        "cat_tensor = torch.cat((a,b), dim=0) #dim=0 means row wise\n",
        "cat_tensor"
      ],
      "metadata": {
        "colab": {
          "base_uri": "https://localhost:8080/"
        },
        "id": "EI2_5n3350ac",
        "outputId": "f2bfc8ca-497d-4999-c8bd-809b332b88de"
      },
      "execution_count": 39,
      "outputs": [
        {
          "output_type": "execute_result",
          "data": {
            "text/plain": [
              "tensor([[4, 3, 3],\n",
              "        [3, 4, 4],\n",
              "        [2, 2, 1],\n",
              "        [8, 5, 8],\n",
              "        [6, 7, 6],\n",
              "        [5, 5, 8]])"
            ]
          },
          "metadata": {},
          "execution_count": 39
        }
      ]
    },
    {
      "cell_type": "code",
      "source": [
        "#torch.stack\n",
        "stack_tensor = torch.stack((a,b), dim=0)\n",
        "stack_tensor"
      ],
      "metadata": {
        "colab": {
          "base_uri": "https://localhost:8080/"
        },
        "id": "MzFPTf2n6MLb",
        "outputId": "ed2657e2-bea5-416e-f6e2-50c894752c57"
      },
      "execution_count": 40,
      "outputs": [
        {
          "output_type": "execute_result",
          "data": {
            "text/plain": [
              "tensor([[[4, 3, 3],\n",
              "         [3, 4, 4],\n",
              "         [2, 2, 1]],\n",
              "\n",
              "        [[8, 5, 8],\n",
              "         [6, 7, 6],\n",
              "         [5, 5, 8]]])"
            ]
          },
          "metadata": {},
          "execution_count": 40
        }
      ]
    },
    {
      "cell_type": "markdown",
      "source": [
        "### Reshaping a Tensor"
      ],
      "metadata": {
        "id": "OrDeW2mr1IJJ"
      }
    },
    {
      "cell_type": "code",
      "source": [
        "#torch.view\n",
        "x = torch.rand(9)\n",
        "x"
      ],
      "metadata": {
        "colab": {
          "base_uri": "https://localhost:8080/"
        },
        "id": "IrNgRKn01oLD",
        "outputId": "ccfc2dc4-216d-4053-e3cd-84a1440e2527"
      },
      "execution_count": 41,
      "outputs": [
        {
          "output_type": "execute_result",
          "data": {
            "text/plain": [
              "tensor([0.2094, 0.3991, 0.8979, 0.8951, 0.1849, 0.2055, 0.1361, 0.8721, 0.6508])"
            ]
          },
          "metadata": {},
          "execution_count": 41
        }
      ]
    },
    {
      "cell_type": "code",
      "source": [
        "y = x.view(3,3)\n",
        "y"
      ],
      "metadata": {
        "colab": {
          "base_uri": "https://localhost:8080/"
        },
        "id": "8QUn34cx_sYY",
        "outputId": "464adc84-9818-4d77-be26-bde66fd1f511"
      },
      "execution_count": 42,
      "outputs": [
        {
          "output_type": "execute_result",
          "data": {
            "text/plain": [
              "tensor([[0.2094, 0.3991, 0.8979],\n",
              "        [0.8951, 0.1849, 0.2055],\n",
              "        [0.1361, 0.8721, 0.6508]])"
            ]
          },
          "metadata": {},
          "execution_count": 42
        }
      ]
    },
    {
      "cell_type": "code",
      "source": [
        "#torch.reshape\n",
        "a = torch.arange(4)\n",
        "a"
      ],
      "metadata": {
        "colab": {
          "base_uri": "https://localhost:8080/"
        },
        "id": "xCOgrYaZ_7nF",
        "outputId": "5b0305ab-a7f1-4779-ccdb-01ec85659b68"
      },
      "execution_count": 43,
      "outputs": [
        {
          "output_type": "execute_result",
          "data": {
            "text/plain": [
              "tensor([0, 1, 2, 3])"
            ]
          },
          "metadata": {},
          "execution_count": 43
        }
      ]
    },
    {
      "cell_type": "code",
      "source": [
        "b = a.reshape(2,2)\n",
        "b"
      ],
      "metadata": {
        "colab": {
          "base_uri": "https://localhost:8080/"
        },
        "id": "GShF4DhkAKh7",
        "outputId": "8e627301-d9d8-4c92-bb3e-750ff1875f6e"
      },
      "execution_count": 44,
      "outputs": [
        {
          "output_type": "execute_result",
          "data": {
            "text/plain": [
              "tensor([[0, 1],\n",
              "        [2, 3]])"
            ]
          },
          "metadata": {},
          "execution_count": 44
        }
      ]
    },
    {
      "cell_type": "code",
      "source": [
        "''' The difference between view and reshape:\n",
        "reshape is done on a copy of our tensor\n",
        "view is done on our original tensor\n",
        "so reshape is safer than view\n",
        "'''"
      ],
      "metadata": {
        "id": "y4rLoXUXAc_s",
        "colab": {
          "base_uri": "https://localhost:8080/",
          "height": 53
        },
        "outputId": "a642c559-cb5e-48a4-d120-3d104df279e4"
      },
      "execution_count": 45,
      "outputs": [
        {
          "output_type": "execute_result",
          "data": {
            "text/plain": [
              "' The difference between view and reshape:\\nreshape is done on a copy of our tensor\\nview is done on our original tensor\\nso reshape is safer than view\\n'"
            ],
            "application/vnd.google.colaboratory.intrinsic+json": {
              "type": "string"
            }
          },
          "metadata": {},
          "execution_count": 45
        }
      ]
    },
    {
      "cell_type": "code",
      "source": [
        "#torch.view_as\n",
        "a = torch.arange(9)\n",
        "a"
      ],
      "metadata": {
        "colab": {
          "base_uri": "https://localhost:8080/"
        },
        "id": "Xu2A8J93AKbb",
        "outputId": "347724b2-e23d-4819-dabc-8a2d1ffb9970"
      },
      "execution_count": 46,
      "outputs": [
        {
          "output_type": "execute_result",
          "data": {
            "text/plain": [
              "tensor([0, 1, 2, 3, 4, 5, 6, 7, 8])"
            ]
          },
          "metadata": {},
          "execution_count": 46
        }
      ]
    },
    {
      "cell_type": "code",
      "source": [
        "#torch.view_as uses a tensor as input\n",
        "a = torch.arange(9)  # Create a tensor with values 0-8\n",
        "b = a.view_as(y) # Reshape 'a' to match the shape of y\n",
        "print(b)"
      ],
      "metadata": {
        "colab": {
          "base_uri": "https://localhost:8080/"
        },
        "id": "-gBr96OsADTA",
        "outputId": "e55be0fe-cf34-455e-f7e4-fb2316f9710d"
      },
      "execution_count": 47,
      "outputs": [
        {
          "output_type": "stream",
          "name": "stdout",
          "text": [
            "tensor([[0, 1, 2],\n",
            "        [3, 4, 5],\n",
            "        [6, 7, 8]])\n"
          ]
        }
      ]
    },
    {
      "cell_type": "markdown",
      "source": [
        "### Arithmetic Operations"
      ],
      "metadata": {
        "id": "bqcqkxL71aa8"
      }
    },
    {
      "cell_type": "code",
      "source": [
        "tensor_a = torch.tensor([[1,1],[3,4]])\n",
        "tensor_b = torch.tensor([[0,6],[7,1]])"
      ],
      "metadata": {
        "id": "GcfSM04s1onn"
      },
      "execution_count": 56,
      "outputs": []
    },
    {
      "cell_type": "code",
      "source": [
        "#Addition\n",
        "print (torch.add(tensor_a, tensor_b))"
      ],
      "metadata": {
        "colab": {
          "base_uri": "https://localhost:8080/"
        },
        "id": "GHx0lC9yQMux",
        "outputId": "32a991cd-0546-490b-abbb-6760ef5809c4"
      },
      "execution_count": 57,
      "outputs": [
        {
          "output_type": "stream",
          "name": "stdout",
          "text": [
            "tensor([[ 1,  7],\n",
            "        [10,  5]])\n"
          ]
        }
      ]
    },
    {
      "cell_type": "code",
      "source": [
        "#Addition\n",
        "print (tensor_a + tensor_b)"
      ],
      "metadata": {
        "colab": {
          "base_uri": "https://localhost:8080/"
        },
        "id": "_4JygPd8RSQE",
        "outputId": "e67bb81d-02ec-4290-f7b4-c4834a3fc20c"
      },
      "execution_count": 58,
      "outputs": [
        {
          "output_type": "stream",
          "name": "stdout",
          "text": [
            "tensor([[ 1,  7],\n",
            "        [10,  5]])\n"
          ]
        }
      ]
    },
    {
      "cell_type": "code",
      "source": [
        "#Subtraction\n",
        "print (torch.sub(tensor_a, tensor_b))"
      ],
      "metadata": {
        "colab": {
          "base_uri": "https://localhost:8080/"
        },
        "id": "AlJ7zglmQOVg",
        "outputId": "0ec9792f-49b9-4e4b-afad-cf6fcc619bda"
      },
      "execution_count": 59,
      "outputs": [
        {
          "output_type": "stream",
          "name": "stdout",
          "text": [
            "tensor([[ 1, -5],\n",
            "        [-4,  3]])\n"
          ]
        }
      ]
    },
    {
      "cell_type": "code",
      "source": [
        "#Subtraction\n",
        "print (tensor_a - tensor_b)"
      ],
      "metadata": {
        "colab": {
          "base_uri": "https://localhost:8080/"
        },
        "id": "tnEb-2poRgRo",
        "outputId": "a1a4f07f-fcb2-4597-ad18-3a19cb1011af"
      },
      "execution_count": 60,
      "outputs": [
        {
          "output_type": "stream",
          "name": "stdout",
          "text": [
            "tensor([[ 1, -5],\n",
            "        [-4,  3]])\n"
          ]
        }
      ]
    },
    {
      "cell_type": "code",
      "source": [
        "#Multiplication\n",
        "print (torch.mul(tensor_a, tensor_b))"
      ],
      "metadata": {
        "colab": {
          "base_uri": "https://localhost:8080/"
        },
        "id": "b3WQyvmoQQvb",
        "outputId": "9b6ba289-f840-4faf-e388-6f7c787e3306"
      },
      "execution_count": 61,
      "outputs": [
        {
          "output_type": "stream",
          "name": "stdout",
          "text": [
            "tensor([[ 0,  6],\n",
            "        [21,  4]])\n"
          ]
        }
      ]
    },
    {
      "cell_type": "code",
      "source": [
        "#Multtiplication\n",
        "print (tensor_a * tensor_b)"
      ],
      "metadata": {
        "colab": {
          "base_uri": "https://localhost:8080/"
        },
        "id": "aBCndShrR8EQ",
        "outputId": "bfa5dbc3-b87b-45fe-edb3-487331e2af17"
      },
      "execution_count": 62,
      "outputs": [
        {
          "output_type": "stream",
          "name": "stdout",
          "text": [
            "tensor([[ 0,  6],\n",
            "        [21,  4]])\n"
          ]
        }
      ]
    },
    {
      "cell_type": "code",
      "source": [
        "#Divition\n",
        "print (torch.div(tensor_a, tensor_b))"
      ],
      "metadata": {
        "colab": {
          "base_uri": "https://localhost:8080/"
        },
        "id": "swIR5FyfQS3I",
        "outputId": "3a0c96c4-3c30-471d-c336-de5b192e4281"
      },
      "execution_count": 63,
      "outputs": [
        {
          "output_type": "stream",
          "name": "stdout",
          "text": [
            "tensor([[   inf, 0.1667],\n",
            "        [0.4286, 4.0000]])\n"
          ]
        }
      ]
    },
    {
      "cell_type": "code",
      "source": [
        "#Divition\n",
        "print (tensor_a / tensor_b)"
      ],
      "metadata": {
        "colab": {
          "base_uri": "https://localhost:8080/"
        },
        "id": "WgwX-meHSSNd",
        "outputId": "6cd2108b-e9ee-4757-8b91-5d0c6a51ce13"
      },
      "execution_count": 64,
      "outputs": [
        {
          "output_type": "stream",
          "name": "stdout",
          "text": [
            "tensor([[   inf, 0.1667],\n",
            "        [0.4286, 4.0000]])\n"
          ]
        }
      ]
    },
    {
      "cell_type": "code",
      "source": [
        "#Exponent\n",
        "print (torch.pow(tensor_a, tensor_b))"
      ],
      "metadata": {
        "colab": {
          "base_uri": "https://localhost:8080/"
        },
        "id": "cUlwL5gSQUWc",
        "outputId": "19293643-5c41-48df-a523-3a4eea4b5a52"
      },
      "execution_count": 96,
      "outputs": [
        {
          "output_type": "stream",
          "name": "stdout",
          "text": [
            "tensor([[   1,    1],\n",
            "        [2187,    4]])\n",
            "tensor([[1, 1],\n",
            "        [3, 4]])\n"
          ]
        }
      ]
    },
    {
      "cell_type": "code",
      "source": [
        "#Exponent\n",
        "print (tensor_a ** tensor_b)"
      ],
      "metadata": {
        "colab": {
          "base_uri": "https://localhost:8080/"
        },
        "id": "tyjXiDIKSflP",
        "outputId": "0dc8c04e-651f-4162-8657-f51c7580baae"
      },
      "execution_count": 66,
      "outputs": [
        {
          "output_type": "stream",
          "name": "stdout",
          "text": [
            "tensor([[   1,    1],\n",
            "        [2187,    4]])\n"
          ]
        }
      ]
    },
    {
      "cell_type": "code",
      "source": [
        "#Matrix Multiplication\n",
        "print (torch.mm(tensor_a, tensor_b))"
      ],
      "metadata": {
        "colab": {
          "base_uri": "https://localhost:8080/"
        },
        "id": "8pixD0cPQZtD",
        "outputId": "c8723d03-2be2-4e3f-ce06-a590ffc22da7"
      },
      "execution_count": 67,
      "outputs": [
        {
          "output_type": "stream",
          "name": "stdout",
          "text": [
            "tensor([[ 7,  7],\n",
            "        [28, 22]])\n"
          ]
        }
      ]
    },
    {
      "cell_type": "code",
      "source": [
        "#Matrix Multiplication\n",
        "my_tensor = tensor_a @ tensor_b\n",
        "my_tensor"
      ],
      "metadata": {
        "colab": {
          "base_uri": "https://localhost:8080/"
        },
        "id": "hiToOL7YSxB8",
        "outputId": "10239663-4410-43a7-c3b9-0d351491b61d"
      },
      "execution_count": 68,
      "outputs": [
        {
          "output_type": "execute_result",
          "data": {
            "text/plain": [
              "tensor([[ 7,  7],\n",
              "        [28, 22]])"
            ]
          },
          "metadata": {},
          "execution_count": 68
        }
      ]
    },
    {
      "cell_type": "code",
      "source": [
        "#Matrix Multiplication\n",
        "my_tensor = tensor_a.mm(tensor_b)\n",
        "my_tensor"
      ],
      "metadata": {
        "colab": {
          "base_uri": "https://localhost:8080/"
        },
        "id": "olvYCXJHS46o",
        "outputId": "60d09375-f469-4de3-ae9b-acf8ff9c1b9a"
      },
      "execution_count": 69,
      "outputs": [
        {
          "output_type": "execute_result",
          "data": {
            "text/plain": [
              "tensor([[ 7,  7],\n",
              "        [28, 22]])"
            ]
          },
          "metadata": {},
          "execution_count": 69
        }
      ]
    },
    {
      "cell_type": "code",
      "source": [
        "#Matrix Multiplication\n",
        "my_tensor = tensor_a.matmul(tensor_b)\n",
        "my_tensor"
      ],
      "metadata": {
        "colab": {
          "base_uri": "https://localhost:8080/"
        },
        "id": "MER3SC7HSvmA",
        "outputId": "d1fe930a-c0a7-40a5-ea6e-920095a6145e"
      },
      "execution_count": 70,
      "outputs": [
        {
          "output_type": "execute_result",
          "data": {
            "text/plain": [
              "tensor([[ 7,  7],\n",
              "        [28, 22]])"
            ]
          },
          "metadata": {},
          "execution_count": 70
        }
      ]
    },
    {
      "cell_type": "code",
      "source": [
        "#Matrix Multiplication\n",
        "my_tensor = torch.matmul(tensor_a, tensor_b)\n",
        "my_tensor"
      ],
      "metadata": {
        "colab": {
          "base_uri": "https://localhost:8080/"
        },
        "id": "osgq4BS6TDNp",
        "outputId": "8936d974-d3f9-4e52-fb93-5ab455272361"
      },
      "execution_count": 76,
      "outputs": [
        {
          "output_type": "execute_result",
          "data": {
            "text/plain": [
              "tensor([[ 7,  7],\n",
              "        [28, 22]])"
            ]
          },
          "metadata": {},
          "execution_count": 76
        }
      ]
    },
    {
      "cell_type": "markdown",
      "source": [
        "### Single Element Tensors"
      ],
      "metadata": {
        "id": "Db6x4WMc1jvI"
      }
    },
    {
      "cell_type": "code",
      "source": [
        "#torch.item()\n",
        "my_tensor = torch.randint(1,5, size=(4,4,))\n",
        "my_tensor"
      ],
      "metadata": {
        "id": "5rVVfspP1o_8",
        "colab": {
          "base_uri": "https://localhost:8080/"
        },
        "outputId": "159a29d2-3915-466a-af9e-dd76e79fa368"
      },
      "execution_count": 80,
      "outputs": [
        {
          "output_type": "execute_result",
          "data": {
            "text/plain": [
              "tensor([[3, 4, 4, 4],\n",
              "        [1, 2, 3, 3],\n",
              "        [2, 3, 3, 2],\n",
              "        [1, 1, 4, 2]])"
            ]
          },
          "metadata": {},
          "execution_count": 80
        }
      ]
    },
    {
      "cell_type": "code",
      "source": [
        "agg = my_tensor.sum()\n",
        "agg"
      ],
      "metadata": {
        "colab": {
          "base_uri": "https://localhost:8080/"
        },
        "id": "9-uOCtQtWYjR",
        "outputId": "38dc2ab9-c3ae-4632-f3c1-618e5da8a737"
      },
      "execution_count": 81,
      "outputs": [
        {
          "output_type": "execute_result",
          "data": {
            "text/plain": [
              "tensor(42)"
            ]
          },
          "metadata": {},
          "execution_count": 81
        }
      ]
    },
    {
      "cell_type": "code",
      "source": [
        "agg_item = agg.item() #returning a paython integer\n",
        "print (agg_item, type(agg_item))"
      ],
      "metadata": {
        "colab": {
          "base_uri": "https://localhost:8080/"
        },
        "id": "tbuysO9fWqRZ",
        "outputId": "071ef417-8e1c-455e-9dfb-6801fe5292f9"
      },
      "execution_count": 86,
      "outputs": [
        {
          "output_type": "stream",
          "name": "stdout",
          "text": [
            "42 <class 'int'>\n"
          ]
        }
      ]
    },
    {
      "cell_type": "markdown",
      "source": [
        "## In-Place Operations"
      ],
      "metadata": {
        "id": "F0fQl885PPOg"
      }
    },
    {
      "cell_type": "code",
      "source": [
        "#in place operations are done in the place, so memory is less used\n",
        "#but they are not recommended because they change the original memory\n",
        "x = torch.rand(3,3)\n",
        "y = torch.rand(3,3)\n",
        "print(x)\n",
        "print(y)"
      ],
      "metadata": {
        "id": "d370tIjO028C",
        "colab": {
          "base_uri": "https://localhost:8080/"
        },
        "outputId": "ea36373c-cee3-4e8c-a31b-d9df758d7c8f"
      },
      "execution_count": 91,
      "outputs": [
        {
          "output_type": "stream",
          "name": "stdout",
          "text": [
            "tensor([[0.7601, 0.0304, 0.2534],\n",
            "        [0.5449, 0.8154, 0.3944],\n",
            "        [0.2379, 0.2674, 0.8355]])\n",
            "tensor([[0.8066, 0.2962, 0.1927],\n",
            "        [0.9848, 0.3947, 0.2096],\n",
            "        [0.3238, 0.5810, 0.0409]])\n"
          ]
        }
      ]
    },
    {
      "cell_type": "code",
      "source": [
        "#Normal Addirtion\n",
        "print (x + y)\n",
        "print (x) #x is not changed"
      ],
      "metadata": {
        "colab": {
          "base_uri": "https://localhost:8080/"
        },
        "id": "Apr0fOUPXwIg",
        "outputId": "0ec345aa-df71-4f57-8771-44e72fcc3cd0"
      },
      "execution_count": 94,
      "outputs": [
        {
          "output_type": "stream",
          "name": "stdout",
          "text": [
            "tensor([[2.3732, 0.6228, 0.6387],\n",
            "        [2.5145, 1.6049, 0.8136],\n",
            "        [0.8855, 1.4294, 0.9172]])\n",
            "tensor([[1.5667, 0.3266, 0.4460],\n",
            "        [1.5297, 1.2102, 0.6040],\n",
            "        [0.5617, 0.8484, 0.8763]])\n"
          ]
        }
      ]
    },
    {
      "cell_type": "code",
      "source": [
        "#In-place Addition\n",
        "#the structure is like a underline after add so: x.add_()\n",
        "print (x.add_(y))\n",
        "print (x) #x is changed"
      ],
      "metadata": {
        "colab": {
          "base_uri": "https://localhost:8080/"
        },
        "id": "SCQOfzLzXv8l",
        "outputId": "2c5246ce-6dba-448f-875c-ed36216ff498"
      },
      "execution_count": 95,
      "outputs": [
        {
          "output_type": "stream",
          "name": "stdout",
          "text": [
            "tensor([[2.3732, 0.6228, 0.6387],\n",
            "        [2.5145, 1.6049, 0.8136],\n",
            "        [0.8855, 1.4294, 0.9172]])\n",
            "tensor([[2.3732, 0.6228, 0.6387],\n",
            "        [2.5145, 1.6049, 0.8136],\n",
            "        [0.8855, 1.4294, 0.9172]])\n"
          ]
        }
      ]
    },
    {
      "cell_type": "markdown",
      "source": [
        "## Other Operations\n",
        "\n",
        "\n",
        "*   Common Functions\n",
        "*   Triginimetric Functions\n",
        "*   Bitwise Operations\n",
        "*   Comparison Operations\n",
        "*   Reduction Operations\n",
        "*   Linear Algebra Operations\n",
        "\n",
        "\n",
        "Commands\n",
        "1.   torch.max() min sum abs argmax arg min sqrt exp\n",
        "2.   torch.norm()\n",
        "3.torch.eq()\n",
        "4.torch.mean()\n",
        "5.torch.clamp()\n",
        "6.torch.sort()\n",
        "7.torch.any() all() unique()\n",
        "8.torch.ndimension()\n",
        "9.torch.remainder()\n",
        "10.torch.numel()\n",
        "11.torch.clone()\n",
        "12.torch.squeeze()\n",
        "13.torch.unsqueeze()\n",
        "14.torch.t()\n"
      ],
      "metadata": {
        "id": "8wd1iSaXPTrr"
      }
    },
    {
      "cell_type": "code",
      "source": [
        "# prompt: torch.norm()\n",
        "# torch.eq()\n",
        "# torch.mean()\n",
        "# torch.clamp()\n",
        "# torch.sort()\n",
        "# torch.any()\n",
        "# torch.ndimension()\n",
        "# torch.remainder()\n",
        "# torch.numel()\n",
        "# torch.clone()\n",
        "# torch.squeeze()\n",
        "\n",
        "# Example tensor\n",
        "x = torch.tensor([[1.0, 2.0, 3.0], [4.0, 5.0, 6.0]])\n",
        "\n",
        "# torch.norm() - Calculates the matrix norm or vector norm\n",
        "norm_x = torch.norm(x)\n",
        "print(f\"Norm of x: {norm_x}\")\n",
        "\n",
        "# torch.eq() - Element-wise equality comparison\n",
        "a = torch.tensor([1, 2, 3])\n",
        "b = torch.tensor([1, 2, 4])\n",
        "equality = torch.eq(a, b)\n",
        "print(f\"Element-wise equality of a and b: {equality}\")\n",
        "\n",
        "# torch.mean() - Calculates the mean of all elements in the tensor\n",
        "mean_x = torch.mean(x)\n",
        "print(f\"Mean of x: {mean_x}\")\n",
        "\n",
        "# torch.clamp() - Clamps all elements in input into the range [ min, max ]\n",
        "clamped_x = torch.clamp(x, min=2.0, max=5.0)\n",
        "print(f\"Clamped x: {clamped_x}\")\n",
        "\n",
        "# torch.sort() - Sorts the elements of the input tensor along a given dimension\n",
        "sorted_x, indices = torch.sort(x, dim=0)  # Sort along the columns (dim=0)\n",
        "print(f\"Sorted x: {sorted_x}\")\n",
        "print(f\"Indices of sorted elements: {indices}\")\n",
        "\n",
        "# torch.any() - Returns True if any element in the input tensor is True\n",
        "has_true = torch.any(x > 4)\n",
        "print(f\"Any element greater than 4: {has_true}\")\n",
        "\n",
        "# torch.ndimension() - Returns the number of dimensions of a tensor\n",
        "dimensions = x.ndimension()\n",
        "print(f\"Number of dimensions in x: {dimensions}\")\n",
        "\n",
        "# torch.remainder() - Computes element-wise remainder of division\n",
        "remainder = torch.remainder(x, 2) #Equivalent to x % 2\n",
        "print(f\"Remainder of x when divided by 2: {remainder}\")\n",
        "\n",
        "# torch.numel() - Returns the total number of elements in the input tensor\n",
        "num_elements = x.numel()\n",
        "print(f\"Number of elements in x: {num_elements}\")\n",
        "\n",
        "# torch.clone() - Returns a copy of the tensor\n",
        "x_clone = x.clone()\n",
        "print(f\"Clone of x: {x_clone}\")\n",
        "\n",
        "\n",
        "# torch.squeeze() - Returns a tensor with all the dimensions of input of size 1 removed\n",
        "y = torch.rand(1,2,1,3)\n",
        "y_squeezed = torch.squeeze(y)\n",
        "print(f\"Original tensor shape:{y.shape}\")\n",
        "print(f\"Squeezed tensor shape: {y_squeezed.shape}\")"
      ],
      "metadata": {
        "colab": {
          "base_uri": "https://localhost:8080/"
        },
        "id": "T-WP9aOWPV0P",
        "outputId": "1c7bb7eb-3a54-4034-9179-5ebbaac84ebe"
      },
      "execution_count": 97,
      "outputs": [
        {
          "output_type": "stream",
          "name": "stdout",
          "text": [
            "Norm of x: 9.539392471313477\n",
            "Element-wise equality of a and b: tensor([ True,  True, False])\n",
            "Mean of x: 3.5\n",
            "Clamped x: tensor([[2., 2., 3.],\n",
            "        [4., 5., 5.]])\n",
            "Sorted x: tensor([[1., 2., 3.],\n",
            "        [4., 5., 6.]])\n",
            "Indices of sorted elements: tensor([[0, 0, 0],\n",
            "        [1, 1, 1]])\n",
            "Any element greater than 4: True\n",
            "Number of dimensions in x: 2\n",
            "Remainder of x when divided by 2: tensor([[1., 0., 1.],\n",
            "        [0., 1., 0.]])\n",
            "Number of elements in x: 6\n",
            "Clone of x: tensor([[1., 2., 3.],\n",
            "        [4., 5., 6.]])\n",
            "Original tensor shape:torch.Size([1, 2, 1, 3])\n",
            "Squeezed tensor shape: torch.Size([2, 3])\n"
          ]
        }
      ]
    },
    {
      "cell_type": "code",
      "source": [
        "#torch.unsqueeze()\n",
        "x = torch.tensor([1, 2, 3, 4])\n",
        "print(x.shape)  # Output: torch.Size([4])\n",
        "x_unsqueezed = torch.unsqueeze(x, dim=0)  # Add a dimension at the beginning\n",
        "print(x_unsqueezed.shape)  # Output: torch.Size([1, 4])\n",
        "x_unsqueezed = torch.unsqueeze(x, dim=1)  # Add a dimension at the index 1\n",
        "print(x_unsqueezed.shape)  # Output: torch.Size([4, 1])\n",
        "\n",
        "\n",
        "#torch.t()  (transpose)\n",
        "x = torch.randn(2, 3)\n",
        "print(x)\n",
        "print(x.t()) # Transpose of a matrix\n",
        "\n",
        "#Example with a 3D tensor\n",
        "x = torch.randn(2, 3, 4)\n",
        "print(x.shape)\n",
        "print(x.transpose(0,1).shape)"
      ],
      "metadata": {
        "colab": {
          "base_uri": "https://localhost:8080/"
        },
        "id": "uHc0n3ELc3TZ",
        "outputId": "80d75e09-ab7b-48ed-95e5-2b17496040f7"
      },
      "execution_count": 98,
      "outputs": [
        {
          "output_type": "stream",
          "name": "stdout",
          "text": [
            "torch.Size([4])\n",
            "torch.Size([1, 4])\n",
            "torch.Size([4, 1])\n",
            "tensor([[0.5386, 0.2928, 0.4202],\n",
            "        [0.9750, 0.7833, 0.0474]])\n",
            "tensor([[0.5386, 0.9750],\n",
            "        [0.2928, 0.7833],\n",
            "        [0.4202, 0.0474]])\n",
            "torch.Size([2, 3, 4])\n",
            "torch.Size([3, 2, 4])\n"
          ]
        }
      ]
    },
    {
      "cell_type": "code",
      "source": [
        "# tensor\n",
        "x = torch.tensor([[1.0, 2.0, 3.0], [4.0, 5.0, 6.0]], requires_grad=True)\n",
        "\n",
        "# Normal copy\n",
        "x_copy = x.clone()\n",
        "\n",
        "# Modifying the copy\n",
        "x_copy[0, 0] = 99.0\n",
        "\n",
        "# Check if the original tensor is affected\n",
        "print(\"Original tensor (x):\", x)\n",
        "print(\"Copied tensor (x_copy):\", x_copy)\n",
        "\n",
        "\n",
        "# detach() without gradient consideration\n",
        "x_detached = x.detach()\n",
        "x_detached[0,0] = 100\n",
        "\n",
        "# check if original tensor is affected\n",
        "print(\"Original tensor (x):\",x)\n",
        "print(\"Detached tensor (x_detached):\",x_detached)\n",
        "\n",
        "# detach() with gradient consideration\n",
        "\n",
        "x_detached_grad = x.detach().clone() #this creates a new tensor so original will not be affected\n",
        "\n",
        "\n",
        "x_detached_grad[0,0] = 101\n",
        "\n",
        "\n",
        "#check if the original tensor is affected\n",
        "print(\"Original tensor (x):\",x)\n",
        "print(\"Detached tensor (x_detached_grad):\",x_detached_grad)"
      ],
      "metadata": {
        "colab": {
          "base_uri": "https://localhost:8080/"
        },
        "id": "_dzOjqE1fea1",
        "outputId": "84faded6-992a-416e-d516-d26c10e175c3"
      },
      "execution_count": 99,
      "outputs": [
        {
          "output_type": "stream",
          "name": "stdout",
          "text": [
            "Original tensor (x): tensor([[1., 2., 3.],\n",
            "        [4., 5., 6.]], requires_grad=True)\n",
            "Copied tensor (x_copy): tensor([[99.,  2.,  3.],\n",
            "        [ 4.,  5.,  6.]], grad_fn=<CopySlices>)\n",
            "Original tensor (x): tensor([[100.,   2.,   3.],\n",
            "        [  4.,   5.,   6.]], requires_grad=True)\n",
            "Detached tensor (x_detached): tensor([[100.,   2.,   3.],\n",
            "        [  4.,   5.,   6.]])\n",
            "Original tensor (x): tensor([[100.,   2.,   3.],\n",
            "        [  4.,   5.,   6.]], requires_grad=True)\n",
            "Detached tensor (x_detached_grad): tensor([[101.,   2.,   3.],\n",
            "        [  4.,   5.,   6.]])\n"
          ]
        }
      ]
    },
    {
      "cell_type": "code",
      "source": [
        "# requires_grad is an attribute of a tensor that indicates whether gradients should be computed for it during backpropagation.\n",
        "\n",
        "# When requires_grad is set to True:\n",
        "# - PyTorch will track all operations performed on the tensor.\n",
        "# - Gradients with respect to the tensor can be computed using the .backward() method.\n",
        "# - This is essential for training neural networks, where we need to calculate gradients to update model parameters.\n",
        "\n",
        "# When requires_grad is set to False (default):\n",
        "# - PyTorch will not track operations on the tensor.\n",
        "# - Gradients cannot be computed for the tensor.\n",
        "# - This is useful for tensors that represent input data or model parameters that should not be updated during training.\n",
        "\n",
        "\n",
        "# Create a tensor with requires_grad=True\n",
        "x = torch.tensor([1.0, 2.0, 3.0], requires_grad=True)\n",
        "\n",
        "# Perform some operations\n",
        "y = x * 2\n",
        "z = y.sum()\n",
        "\n",
        "# Compute gradients\n",
        "z.backward()\n",
        "\n",
        "# Access the gradients\n",
        "print(x.grad)  # Output: tensor([2., 2., 2.])\n",
        "\n",
        "\n",
        "# detach() creates a new tensor that shares the same data but does not require gradients.\n",
        "#This is crucial when you need to perform operations on a tensor without affecting the computational graph.\n",
        "\n",
        "# detach() without gradient consideration\n",
        "x_detached = x.detach()\n",
        "x_detached[0] = 100 # Changing x_detached does not affect x because they are separate tensors\n",
        "\n",
        "# check if original tensor is affected\n",
        "print(\"Original tensor (x):\",x)\n",
        "print(\"Detached tensor (x_detached):\",x_detached)\n",
        "\n",
        "# detach() with gradient consideration\n",
        "x_detached_grad = x.detach().clone() # This creates a copy which is independent of original tensor\n",
        "x_detached_grad[0] = 101\n",
        "\n",
        "#check if the original tensor is affected\n",
        "print(\"Original tensor (x):\",x)\n",
        "print(\"Detached tensor (x_detached_grad):\",x_detached_grad)"
      ],
      "metadata": {
        "colab": {
          "base_uri": "https://localhost:8080/"
        },
        "id": "0jIIce3IhjZN",
        "outputId": "8fac59aa-84cf-45b7-90e5-d9eb1b5646f0"
      },
      "execution_count": 101,
      "outputs": [
        {
          "output_type": "stream",
          "name": "stdout",
          "text": [
            "tensor([2., 2., 2.])\n",
            "Original tensor (x): tensor([100.,   2.,   3.], requires_grad=True)\n",
            "Detached tensor (x_detached): tensor([100.,   2.,   3.])\n",
            "Original tensor (x): tensor([100.,   2.,   3.], requires_grad=True)\n",
            "Detached tensor (x_detached_grad): tensor([101.,   2.,   3.])\n"
          ]
        }
      ]
    },
    {
      "cell_type": "code",
      "source": [
        "'''\n",
        "Pytorch library expects you to enter batches of data.\n",
        "so you usually have images with dimensions like\n",
        "colors x height x width. But input required by\n",
        "pytorch i like batch_size x colors x height x width.\n",
        "so how should we change the shape of our tensor?\n",
        "using torch.permute() and also torch.transpose()\n",
        "and torch.swapaxes() and torch.unsqueeze()\n",
        "'''"
      ],
      "metadata": {
        "id": "wgiKuH4ciWs9"
      },
      "execution_count": null,
      "outputs": []
    },
    {
      "cell_type": "code",
      "source": [
        "a = torch.rand(3,224,224)\n",
        "a.shape"
      ],
      "metadata": {
        "colab": {
          "base_uri": "https://localhost:8080/"
        },
        "id": "oluq3CF6jFBR",
        "outputId": "ac1b9e8c-0cd4-4d07-e123-79b2893f70e6"
      },
      "execution_count": 102,
      "outputs": [
        {
          "output_type": "execute_result",
          "data": {
            "text/plain": [
              "torch.Size([3, 224, 224])"
            ]
          },
          "metadata": {},
          "execution_count": 102
        }
      ]
    },
    {
      "cell_type": "code",
      "source": [
        "b = a.unsqueeze(0) #one dimension is added to tensor\n",
        "b.shape"
      ],
      "metadata": {
        "colab": {
          "base_uri": "https://localhost:8080/"
        },
        "id": "j0DR0x4ojJgJ",
        "outputId": "4444613b-22b4-47da-b11a-e3ed4b3549f2"
      },
      "execution_count": 105,
      "outputs": [
        {
          "output_type": "execute_result",
          "data": {
            "text/plain": [
              "torch.Size([1, 3, 224, 224])"
            ]
          },
          "metadata": {},
          "execution_count": 105
        }
      ]
    },
    {
      "cell_type": "code",
      "source": [
        "c = torch.rand(1,1,1,1,1)\n",
        "print(c)"
      ],
      "metadata": {
        "colab": {
          "base_uri": "https://localhost:8080/"
        },
        "id": "tpzgHX30jN5U",
        "outputId": "da2a8ba0-f85f-4f77-fd7a-19fe502fd950"
      },
      "execution_count": 107,
      "outputs": [
        {
          "output_type": "stream",
          "name": "stdout",
          "text": [
            "tensor([[[[[0.0741]]]]])\n"
          ]
        }
      ]
    },
    {
      "cell_type": "code",
      "source": [
        "a = torch.rand(1,20)\n",
        "print(a)\n",
        "print(a.shape)"
      ],
      "metadata": {
        "colab": {
          "base_uri": "https://localhost:8080/"
        },
        "id": "ZLCEDtoajr28",
        "outputId": "b46f2e6b-f3f7-46b7-f7fd-e9d73848f33e"
      },
      "execution_count": 109,
      "outputs": [
        {
          "output_type": "stream",
          "name": "stdout",
          "text": [
            "tensor([[0.7166, 0.2434, 0.8731, 0.3286, 0.1843, 0.2800, 0.2981, 0.8268, 0.1605,\n",
            "         0.5768, 0.7231, 0.5465, 0.7773, 0.1691, 0.7812, 0.0838, 0.7026, 0.2007,\n",
            "         0.8387, 0.5509]])\n",
            "torch.Size([1, 20])\n"
          ]
        }
      ]
    },
    {
      "cell_type": "code",
      "source": [
        "b = a.squeeze(0) #one dimension is removed from tensor\n",
        "print(b)\n",
        "print(b.shape)"
      ],
      "metadata": {
        "colab": {
          "base_uri": "https://localhost:8080/"
        },
        "id": "4xStT7QfkCZA",
        "outputId": "b9374bb8-47ab-45b4-b405-8e60b9f00670"
      },
      "execution_count": 110,
      "outputs": [
        {
          "output_type": "stream",
          "name": "stdout",
          "text": [
            "tensor([0.7166, 0.2434, 0.8731, 0.3286, 0.1843, 0.2800, 0.2981, 0.8268, 0.1605,\n",
            "        0.5768, 0.7231, 0.5465, 0.7773, 0.1691, 0.7812, 0.0838, 0.7026, 0.2007,\n",
            "        0.8387, 0.5509])\n",
            "torch.Size([20])\n"
          ]
        }
      ]
    },
    {
      "cell_type": "markdown",
      "source": [
        "## Interopearability\n",
        "###Connections between numpy and pytorch"
      ],
      "metadata": {
        "id": "j2Vy1lB2kp5p"
      }
    },
    {
      "cell_type": "code",
      "source": [
        "#numpy array to pytorch tensor\n",
        "array = np.ones((2,3))\n",
        "print(f'numpy array: {array}')\n",
        "\n",
        "tensor = torch.from_numpy(array)\n",
        "print(f'tensor: {tensor}')"
      ],
      "metadata": {
        "colab": {
          "base_uri": "https://localhost:8080/"
        },
        "id": "9qzY8464k1Xk",
        "outputId": "860ecb4c-bb52-4bf0-8cce-996caf6960fc"
      },
      "execution_count": 112,
      "outputs": [
        {
          "output_type": "stream",
          "name": "stdout",
          "text": [
            "numpy array: [[1. 1. 1.]\n",
            " [1. 1. 1.]]\n",
            "tensor: tensor([[1., 1., 1.],\n",
            "        [1., 1., 1.]], dtype=torch.float64)\n"
          ]
        }
      ]
    },
    {
      "cell_type": "code",
      "source": [
        "#pytoch tensor to numpy array\n",
        "pytorch_rand = torch.rand(2,3)\n",
        "print(f'pytorch tensor: {pytorch_rand}')\n",
        "\n",
        "numpy_rand = pytorch_rand.numpy()\n",
        "print(f'numpy array: {numpy_rand}')"
      ],
      "metadata": {
        "colab": {
          "base_uri": "https://localhost:8080/"
        },
        "id": "Gk8EuMZ0lN3l",
        "outputId": "0e61a657-0305-4ea8-b729-66c3e4ebbfa4"
      },
      "execution_count": 113,
      "outputs": [
        {
          "output_type": "stream",
          "name": "stdout",
          "text": [
            "pytorch tensor: tensor([[0.4911, 0.7413, 0.2093],\n",
            "        [0.4238, 0.2093, 0.6063]])\n",
            "numpy array: [[0.49105692 0.74127483 0.20928264]\n",
            " [0.42381197 0.20925552 0.6063445 ]]\n"
          ]
        }
      ]
    }
  ]
}