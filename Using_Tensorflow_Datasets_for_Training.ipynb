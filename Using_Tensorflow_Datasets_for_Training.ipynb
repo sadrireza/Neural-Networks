{
  "nbformat": 4,
  "nbformat_minor": 0,
  "metadata": {
    "colab": {
      "provenance": [],
      "authorship_tag": "ABX9TyNO3rLZwbRO3PkN9Zwsfh7u",
      "include_colab_link": true
    },
    "kernelspec": {
      "name": "python3",
      "display_name": "Python 3"
    },
    "language_info": {
      "name": "python"
    }
  },
  "cells": [
    {
      "cell_type": "markdown",
      "metadata": {
        "id": "view-in-github",
        "colab_type": "text"
      },
      "source": [
        "<a href=\"https://colab.research.google.com/github/sadrireza/Neural-Networks/blob/main/Using_Tensorflow_Datasets_for_Training.ipynb\" target=\"_parent\"><img src=\"https://colab.research.google.com/assets/colab-badge.svg\" alt=\"Open In Colab\"/></a>"
      ]
    },
    {
      "cell_type": "markdown",
      "source": [
        "## Keras Datasets"
      ],
      "metadata": {
        "id": "Vnx8wCSPaHON"
      }
    },
    {
      "cell_type": "code",
      "execution_count": 58,
      "metadata": {
        "id": "CsGmpUIdYR7G"
      },
      "outputs": [],
      "source": [
        "from tensorflow.keras import datasets\n",
        "import tensorflow as tf"
      ]
    },
    {
      "cell_type": "code",
      "source": [
        "(train_images, train_labels), (test_images, test_labels) = datasets.mnist.load_data()"
      ],
      "metadata": {
        "colab": {
          "base_uri": "https://localhost:8080/"
        },
        "id": "U9hmJBDgYeYP",
        "outputId": "56e0a984-9b90-4955-f494-dfbd50f108ed"
      },
      "execution_count": 2,
      "outputs": [
        {
          "output_type": "stream",
          "name": "stdout",
          "text": [
            "Downloading data from https://storage.googleapis.com/tensorflow/tf-keras-datasets/mnist.npz\n",
            "\u001b[1m11490434/11490434\u001b[0m \u001b[32m━━━━━━━━━━━━━━━━━━━━\u001b[0m\u001b[37m\u001b[0m \u001b[1m0s\u001b[0m 0us/step\n"
          ]
        }
      ]
    },
    {
      "cell_type": "code",
      "source": [
        "type(train_images)"
      ],
      "metadata": {
        "colab": {
          "base_uri": "https://localhost:8080/"
        },
        "id": "qgNf2EyVYvX7",
        "outputId": "c8ab22cd-6ca8-42c9-bd06-3b994f05604a"
      },
      "execution_count": 3,
      "outputs": [
        {
          "output_type": "execute_result",
          "data": {
            "text/plain": [
              "numpy.ndarray"
            ]
          },
          "metadata": {},
          "execution_count": 3
        }
      ]
    },
    {
      "cell_type": "markdown",
      "source": [
        "## Tensorflow Datasets"
      ],
      "metadata": {
        "id": "2rCbnfmLaNwv"
      }
    },
    {
      "cell_type": "code",
      "source": [
        "!pip install tensorflow -datasets"
      ],
      "metadata": {
        "colab": {
          "base_uri": "https://localhost:8080/"
        },
        "id": "kfqAiGVVaWGB",
        "outputId": "c09ec5a0-a447-4352-f8da-7ef0c679ffcb"
      },
      "execution_count": 4,
      "outputs": [
        {
          "output_type": "stream",
          "name": "stdout",
          "text": [
            "\n",
            "Usage:   \n",
            "  pip3 install [options] <requirement specifier> [package-index-options] ...\n",
            "  pip3 install [options] -r <requirements file> [package-index-options] ...\n",
            "  pip3 install [options] [-e] <vcs project url> ...\n",
            "  pip3 install [options] [-e] <local project path> ...\n",
            "  pip3 install [options] <archive url/path> ...\n",
            "\n",
            "no such option: -d\n"
          ]
        }
      ]
    },
    {
      "cell_type": "code",
      "source": [
        "import tensorflow_datasets as tfds\n",
        "import tensorflow as tf"
      ],
      "metadata": {
        "id": "XwBF58mZZc-i"
      },
      "execution_count": 5,
      "outputs": []
    },
    {
      "cell_type": "code",
      "source": [
        "train_dataset, test_dataset = tfds.load('mnist', split=['train', 'test'],\n",
        "                                        as_supervised=True)"
      ],
      "metadata": {
        "id": "LymhwXdwZ34z"
      },
      "execution_count": 67,
      "outputs": []
    },
    {
      "cell_type": "code",
      "source": [
        "def preprocess_data(images, labels):\n",
        "    images = tf.reshape(images, (len(images), 784))\n",
        "    inputs = {\"images\": images, \"labels\": labels}\n",
        "    outputs = inputs\n",
        "    return outputs['images'], outputs['labels']"
      ],
      "metadata": {
        "id": "Bnh_6dQG0UQJ"
      },
      "execution_count": 68,
      "outputs": []
    },
    {
      "cell_type": "code",
      "source": [
        "train_dataset2 = train_dataset.batch(128).map(\n",
        "    lambda x, y: preprocess_data(x, y),\n",
        "        num_parallel_calls=tf.data.AUTOTUNE).prefetch(\n",
        "            tf.data.AUTOTUNE)\n",
        "test_dataset2 = test_dataset.batch(128).map(\n",
        "    preprocess_data, num_parallel_calls=tf.data.AUTOTUNE).prefetch(\n",
        "        tf.data.AUTOTUNE)"
      ],
      "metadata": {
        "id": "_HUp7dE61Fix"
      },
      "execution_count": 70,
      "outputs": []
    },
    {
      "cell_type": "code",
      "source": [
        "print (train_labels.size)\n",
        "print (train_labels.shape)\n",
        "print (train_labels.ndim)\n",
        "print (train_images.ndim)\n",
        "print (train_images.size)\n",
        "print (train_images.shape)\n",
        "print (train_images.dtype)\n",
        "print (train_labels.dtype)"
      ],
      "metadata": {
        "colab": {
          "base_uri": "https://localhost:8080/"
        },
        "id": "Hs66fQVP02h_",
        "outputId": "bed43fcd-dcee-4191-83a2-553dce1d7242"
      },
      "execution_count": 11,
      "outputs": [
        {
          "output_type": "stream",
          "name": "stdout",
          "text": [
            "60000\n",
            "(60000,)\n",
            "1\n",
            "3\n",
            "47040000\n",
            "(60000, 28, 28)\n",
            "uint8\n",
            "uint8\n"
          ]
        }
      ]
    },
    {
      "cell_type": "code",
      "source": [
        "train_images_vector = train_images.reshape (60000 , 784)\n",
        "# print(train_images_vector.shape)\n",
        "train_images_vector.shape"
      ],
      "metadata": {
        "colab": {
          "base_uri": "https://localhost:8080/"
        },
        "id": "shoZl-252R7y",
        "outputId": "a2e988f2-35b0-448e-930f-21cfd6c446cf"
      },
      "execution_count": 12,
      "outputs": [
        {
          "output_type": "execute_result",
          "data": {
            "text/plain": [
              "(60000, 784)"
            ]
          },
          "metadata": {},
          "execution_count": 12
        }
      ]
    },
    {
      "cell_type": "code",
      "source": [
        "train_images_vector = train_images.astype('float32')\n",
        "train_images_vector.dtype"
      ],
      "metadata": {
        "colab": {
          "base_uri": "https://localhost:8080/"
        },
        "id": "K8dfB4BS_uf-",
        "outputId": "d80072cb-28e7-4b16-a692-80ff43a5df72"
      },
      "execution_count": 13,
      "outputs": [
        {
          "output_type": "execute_result",
          "data": {
            "text/plain": [
              "dtype('float32')"
            ]
          },
          "metadata": {},
          "execution_count": 13
        }
      ]
    },
    {
      "cell_type": "code",
      "source": [
        "train_images_vector.shape"
      ],
      "metadata": {
        "colab": {
          "base_uri": "https://localhost:8080/"
        },
        "id": "fxXK-BaYueje",
        "outputId": "f1716110-5e96-4b34-951b-e72dc2fc0832"
      },
      "execution_count": 44,
      "outputs": [
        {
          "output_type": "execute_result",
          "data": {
            "text/plain": [
              "(60000, 784)"
            ]
          },
          "metadata": {},
          "execution_count": 44
        }
      ]
    },
    {
      "cell_type": "code",
      "source": [
        "sample=train_dataset2.take(1)\n",
        "for image, label in sample:\n",
        "  print (image.shape)\n",
        "  print (label)"
      ],
      "metadata": {
        "colab": {
          "base_uri": "https://localhost:8080/"
        },
        "id": "j6f1B3COMRVu",
        "outputId": "2943ce2e-4978-4055-9afe-1357747d1e01"
      },
      "execution_count": 72,
      "outputs": [
        {
          "output_type": "stream",
          "name": "stdout",
          "text": [
            "(128, 784)\n",
            "tf.Tensor(\n",
            "[4 1 0 7 8 1 2 7 1 6 6 4 7 7 3 3 7 9 9 1 0 6 6 9 9 4 8 9 4 7 3 3 0 9 4 9 0\n",
            " 6 8 4 7 2 6 0 3 1 1 7 2 4 4 6 5 1 9 3 2 4 3 4 4 7 5 8 1 1 4 1 5 3 5 8 4 1\n",
            " 1 4 5 3 2 4 1 4 8 1 2 1 9 0 7 6 7 4 4 9 7 5 6 8 4 6 9 2 9 4 4 9 5 4 5 7 7\n",
            " 1 8 3 7 9 8 4 9 2 8 0 3 9 4 7 6 6], shape=(128,), dtype=int64)\n"
          ]
        }
      ]
    },
    {
      "cell_type": "markdown",
      "source": [
        "## In Case of Changing the Variable before the Loop:"
      ],
      "metadata": {
        "id": "YUzcLJhdT6Ig"
      }
    },
    {
      "cell_type": "code",
      "source": [
        "#for item in tdfs.as_numpy(sample)\n",
        "#print(type(item['image']))\n",
        "#..."
      ],
      "metadata": {
        "id": "gd7cYBAsUGAK"
      },
      "execution_count": 18,
      "outputs": []
    },
    {
      "cell_type": "markdown",
      "source": [
        "##Visualization for Keras using Matplotlib"
      ],
      "metadata": {
        "id": "kqHxE_y7UhXc"
      }
    },
    {
      "cell_type": "code",
      "source": [
        "import matplotlib.pyplot as plt"
      ],
      "metadata": {
        "id": "Ag9olpszUgEW"
      },
      "execution_count": 19,
      "outputs": []
    },
    {
      "cell_type": "code",
      "source": [
        "fig , axes = plt.subplots(1,10,figsize=(10,5))\n",
        "for i in range (len(axes)):\n",
        "  axes[i].imshow(train_images[i],cmap='gray')\n",
        "  axes[i].set_title(train_labels[i])\n",
        "  axes[i].set_axis_off()"
      ],
      "metadata": {
        "colab": {
          "base_uri": "https://localhost:8080/",
          "height": 125
        },
        "id": "st1wUmHHUn0C",
        "outputId": "95e13ff0-5836-40be-e6b8-490b1a21344f"
      },
      "execution_count": 20,
      "outputs": [
        {
          "output_type": "display_data",
          "data": {
            "text/plain": [
              "<Figure size 1000x500 with 10 Axes>"
            ],
            "image/png": "[encoded data removed]"
          },
          "metadata": {}
        }
      ]
    },
    {
      "cell_type": "markdown",
      "source": [
        "##Visualization for Tensorflow Datasets"
      ],
      "metadata": {
        "id": "F0Sj2sQaXZZg"
      }
    },
    {
      "cell_type": "code",
      "source": [
        "#tfds.show_examples(ds[0])\n",
        "#since we get error, we need more parameters while loading tensorflow datasets\n",
        "ds,info=tfds.load('mnist',split=['train','test'],with_info=True)\n",
        "\n",
        "#Show\n",
        "tfds.show_examples(ds[1],info)"
      ],
      "metadata": {
        "colab": {
          "base_uri": "https://localhost:8080/",
          "height": 1000
        },
        "id": "0F-wB7n7Xew9",
        "outputId": "9a05e71c-6b5a-4288-f8a6-4d31ffc69b72"
      },
      "execution_count": 21,
      "outputs": [
        {
          "output_type": "display_data",
          "data": {
            "text/plain": [
              "<Figure size 900x900 with 9 Axes>"
            ],
            "image/png": "[encoded data removed]"
          },
          "metadata": {}
        },
        {
          "output_type": "execute_result",
          "data": {
            "text/plain": [
              "<Figure size 900x900 with 9 Axes>"
            ],
            "image/png": "[encoded data removed]"
          },
          "metadata": {},
          "execution_count": 21
        }
      ]
    },
    {
      "cell_type": "code",
      "source": [
        "#Changing the type of vars in TF from dict to tuple so that we can use them for training\n",
        "train_dataset, test_dataset = tfds.load('mnist',split=['train','test'], as_supervised=True)"
      ],
      "metadata": {
        "id": "akzQB-Dfajsy"
      },
      "execution_count": 61,
      "outputs": []
    },
    {
      "cell_type": "code",
      "source": [
        "print(len(item))"
      ],
      "metadata": {
        "colab": {
          "base_uri": "https://localhost:8080/"
        },
        "id": "IPxHnhFfbfQK",
        "outputId": "9064f270-e87c-424f-a945-98b7e0583d61"
      },
      "execution_count": 23,
      "outputs": [
        {
          "output_type": "stream",
          "name": "stdout",
          "text": [
            "2\n"
          ]
        }
      ]
    },
    {
      "cell_type": "code",
      "source": [
        "for image, label in sample1:\n",
        "  print(image.shape)\n",
        "  print(label)"
      ],
      "metadata": {
        "colab": {
          "base_uri": "https://localhost:8080/"
        },
        "id": "PWKWUB6NbptK",
        "outputId": "58daee54-05a0-46af-bd75-14147a639730"
      },
      "execution_count": 24,
      "outputs": [
        {
          "output_type": "stream",
          "name": "stdout",
          "text": [
            "(28, 28, 1)\n",
            "tf.Tensor(4, shape=(), dtype=int64)\n"
          ]
        }
      ]
    },
    {
      "cell_type": "markdown",
      "source": [],
      "metadata": {
        "id": "wahr5D15kA2A"
      }
    },
    {
      "cell_type": "markdown",
      "source": [
        "##Model design"
      ],
      "metadata": {
        "id": "vuWj9eWZkGCp"
      }
    },
    {
      "cell_type": "code",
      "source": [
        "from tensorflow import keras\n",
        "from tensorflow.keras import layers\n",
        "\n",
        "model = keras.Sequential([\n",
        "     layers.Dense(512, activation='relu'),\n",
        "    layers.Dense(10, activation='softmax')\n",
        "])"
      ],
      "metadata": {
        "id": "7zFiglC8kAi0"
      },
      "execution_count": 74,
      "outputs": []
    },
    {
      "cell_type": "markdown",
      "source": [
        "##Training"
      ],
      "metadata": {
        "id": "xFsB4ol3kx6k"
      }
    },
    {
      "cell_type": "code",
      "source": [
        "model.compile(\n",
        "    optimizer='rmsprop',\n",
        "    loss='sparse_categorical_crossentropy',\n",
        "    metrics=['accuracy'])"
      ],
      "metadata": {
        "id": "5goH9xgpkzxD"
      },
      "execution_count": 75,
      "outputs": []
    },
    {
      "cell_type": "code",
      "source": [
        "model.fit(train_dataset2, epochs=5, batch_size=128)"
      ],
      "metadata": {
        "colab": {
          "base_uri": "https://localhost:8080/"
        },
        "id": "ihFm08GylgK9",
        "outputId": "0727641a-c97a-4d33-87d4-6e213a38cdd4"
      },
      "execution_count": 76,
      "outputs": [
        {
          "output_type": "stream",
          "name": "stdout",
          "text": [
            "Epoch 1/5\n"
          ]
        },
        {
          "output_type": "stream",
          "name": "stderr",
          "text": [
            "WARNING:tensorflow:5 out of the last 2349 calls to <function TensorFlowTrainer.make_train_function.<locals>.one_step_on_iterator at 0x7abf93d3e3b0> triggered tf.function retracing. Tracing is expensive and the excessive number of tracings could be due to (1) creating @tf.function repeatedly in a loop, (2) passing tensors with different shapes, (3) passing Python objects instead of tensors. For (1), please define your @tf.function outside of the loop. For (2), @tf.function has reduce_retracing=True option that can avoid unnecessary retracing. For (3), please refer to https://www.tensorflow.org/guide/function#controlling_retracing and https://www.tensorflow.org/api_docs/python/tf/function for  more details.\n"
          ]
        },
        {
          "output_type": "stream",
          "name": "stdout",
          "text": [
            "\u001b[1m469/469\u001b[0m \u001b[32m━━━━━━━━━━━━━━━━━━━━\u001b[0m\u001b[37m\u001b[0m \u001b[1m11s\u001b[0m 23ms/step - accuracy: 0.8344 - loss: 15.7838\n",
            "Epoch 2/5\n",
            "\u001b[1m469/469\u001b[0m \u001b[32m━━━━━━━━━━━━━━━━━━━━\u001b[0m\u001b[37m\u001b[0m \u001b[1m5s\u001b[0m 11ms/step - accuracy: 0.9513 - loss: 0.7643\n",
            "Epoch 3/5\n",
            "\u001b[1m469/469\u001b[0m \u001b[32m━━━━━━━━━━━━━━━━━━━━\u001b[0m\u001b[37m\u001b[0m \u001b[1m7s\u001b[0m 15ms/step - accuracy: 0.9631 - loss: 0.5026\n",
            "Epoch 4/5\n",
            "\u001b[1m469/469\u001b[0m \u001b[32m━━━━━━━━━━━━━━━━━━━━\u001b[0m\u001b[37m\u001b[0m \u001b[1m5s\u001b[0m 11ms/step - accuracy: 0.9719 - loss: 0.3869\n",
            "Epoch 5/5\n",
            "\u001b[1m469/469\u001b[0m \u001b[32m━━━━━━━━━━━━━━━━━━━━\u001b[0m\u001b[37m\u001b[0m \u001b[1m12s\u001b[0m 14ms/step - accuracy: 0.9753 - loss: 0.3137\n"
          ]
        },
        {
          "output_type": "execute_result",
          "data": {
            "text/plain": [
              "<keras.src.callbacks.history.History at 0x7abfa3e916c0>"
            ]
          },
          "metadata": {},
          "execution_count": 76
        }
      ]
    }
  ]
}