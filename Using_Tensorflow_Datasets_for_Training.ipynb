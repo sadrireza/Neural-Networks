{
  "nbformat": 4,
  "nbformat_minor": 0,
  "metadata": {
    "colab": {
      "provenance": [],
      "authorship_tag": "ABX9TyMLrnlXbtOO9SNmvDntaoCD",
      "include_colab_link": true
    },
    "kernelspec": {
      "name": "python3",
      "display_name": "Python 3"
    },
    "language_info": {
      "name": "python"
    }
  },
  "cells": [
    {
      "cell_type": "markdown",
      "metadata": {
        "id": "view-in-github",
        "colab_type": "text"
      },
      "source": [
        "<a href=\"https://colab.research.google.com/github/sadrireza/Neural-Networks/blob/main/Using_Tensorflow_Datasets_for_Training.ipynb\" target=\"_parent\"><img src=\"https://colab.research.google.com/assets/colab-badge.svg\" alt=\"Open In Colab\"/></a>"
      ]
    },
    {
      "cell_type": "markdown",
      "source": [
        "## Tensorflow Datasets"
      ],
      "metadata": {
        "id": "2rCbnfmLaNwv"
      }
    },
    {
      "cell_type": "code",
      "source": [
        "%%capture\n",
        "!pip install tensorflow -datasets"
      ],
      "metadata": {
        "id": "kfqAiGVVaWGB"
      },
      "execution_count": 91,
      "outputs": []
    },
    {
      "cell_type": "code",
      "source": [
        "import tensorflow_datasets as tfds\n",
        "import tensorflow as tf"
      ],
      "metadata": {
        "id": "XwBF58mZZc-i"
      },
      "execution_count": 78,
      "outputs": []
    },
    {
      "cell_type": "markdown",
      "source": [
        "##Loading"
      ],
      "metadata": {
        "id": "0-_u01Pm3nat"
      }
    },
    {
      "cell_type": "code",
      "source": [
        "train_dataset, test_dataset = tfds.load('mnist', split=['train', 'test'],\n",
        "                                        as_supervised=True)"
      ],
      "metadata": {
        "id": "LymhwXdwZ34z"
      },
      "execution_count": 79,
      "outputs": []
    },
    {
      "cell_type": "code",
      "source": [
        "def preprocess_data(images, labels):\n",
        "    images = tf.reshape(images, (len(images), 784))\n",
        "    inputs = {\"images\": images, \"labels\": labels}\n",
        "    outputs = inputs\n",
        "    return outputs['images'], outputs['labels']"
      ],
      "metadata": {
        "id": "Bnh_6dQG0UQJ"
      },
      "execution_count": 80,
      "outputs": []
    },
    {
      "cell_type": "code",
      "source": [
        "train_dataset2 = train_dataset.batch(128).map(\n",
        "    lambda x, y: preprocess_data(x, y),\n",
        "        num_parallel_calls=tf.data.AUTOTUNE).prefetch(\n",
        "            tf.data.AUTOTUNE)\n",
        "test_dataset2 = test_dataset.batch(128).map(\n",
        "    preprocess_data, num_parallel_calls=tf.data.AUTOTUNE).prefetch(\n",
        "        tf.data.AUTOTUNE)"
      ],
      "metadata": {
        "id": "_HUp7dE61Fix"
      },
      "execution_count": 81,
      "outputs": []
    },
    {
      "cell_type": "code",
      "source": [
        "train_images_vector = train_images.reshape (60000 , 784)\n",
        "# print(train_images_vector.shape)\n",
        "train_images_vector.shape"
      ],
      "metadata": {
        "colab": {
          "base_uri": "https://localhost:8080/"
        },
        "id": "shoZl-252R7y",
        "outputId": "f17c8088-6ae7-4a91-8d2e-85e70ae1bcb6"
      },
      "execution_count": 82,
      "outputs": [
        {
          "output_type": "execute_result",
          "data": {
            "text/plain": [
              "(60000, 784)"
            ]
          },
          "metadata": {},
          "execution_count": 82
        }
      ]
    },
    {
      "cell_type": "code",
      "source": [
        "train_images_vector = train_images.astype('float32')\n",
        "train_images_vector.dtype"
      ],
      "metadata": {
        "colab": {
          "base_uri": "https://localhost:8080/"
        },
        "id": "K8dfB4BS_uf-",
        "outputId": "c10ba44e-aa3a-4e29-b3f8-7a72d1645d5d"
      },
      "execution_count": 83,
      "outputs": [
        {
          "output_type": "execute_result",
          "data": {
            "text/plain": [
              "dtype('float32')"
            ]
          },
          "metadata": {},
          "execution_count": 83
        }
      ]
    },
    {
      "cell_type": "code",
      "source": [
        "train_images_vector.shape"
      ],
      "metadata": {
        "colab": {
          "base_uri": "https://localhost:8080/"
        },
        "id": "fxXK-BaYueje",
        "outputId": "4dc631eb-5132-481f-8eca-9471dc1416df"
      },
      "execution_count": 84,
      "outputs": [
        {
          "output_type": "execute_result",
          "data": {
            "text/plain": [
              "(60000, 28, 28)"
            ]
          },
          "metadata": {},
          "execution_count": 84
        }
      ]
    },
    {
      "cell_type": "code",
      "source": [
        "sample=train_dataset2.take(1)\n",
        "for image, label in sample:\n",
        "  print (image.shape)\n",
        "  print (label)"
      ],
      "metadata": {
        "colab": {
          "base_uri": "https://localhost:8080/"
        },
        "id": "j6f1B3COMRVu",
        "outputId": "be4ca6a5-73d0-4f35-f384-4359cabb8aae"
      },
      "execution_count": 85,
      "outputs": [
        {
          "output_type": "stream",
          "name": "stdout",
          "text": [
            "(128, 784)\n",
            "tf.Tensor(\n",
            "[4 1 0 7 8 1 2 7 1 6 6 4 7 7 3 3 7 9 9 1 0 6 6 9 9 4 8 9 4 7 3 3 0 9 4 9 0\n",
            " 6 8 4 7 2 6 0 3 1 1 7 2 4 4 6 5 1 9 3 2 4 3 4 4 7 5 8 1 1 4 1 5 3 5 8 4 1\n",
            " 1 4 5 3 2 4 1 4 8 1 2 1 9 0 7 6 7 4 4 9 7 5 6 8 4 6 9 2 9 4 4 9 5 4 5 7 7\n",
            " 1 8 3 7 9 8 4 9 2 8 0 3 9 4 7 6 6], shape=(128,), dtype=int64)\n"
          ]
        }
      ]
    },
    {
      "cell_type": "code",
      "source": [
        "#Changing the type of vars in TF from dict to tuple so that we can use them for training\n",
        "train_dataset, test_dataset = tfds.load('mnist',split=['train','test'], as_supervised=True)"
      ],
      "metadata": {
        "id": "akzQB-Dfajsy"
      },
      "execution_count": 86,
      "outputs": []
    },
    {
      "cell_type": "code",
      "source": [
        "print(len(item))"
      ],
      "metadata": {
        "colab": {
          "base_uri": "https://localhost:8080/"
        },
        "id": "IPxHnhFfbfQK",
        "outputId": "5c94c592-1742-4ff2-9411-98d314064a3a"
      },
      "execution_count": 87,
      "outputs": [
        {
          "output_type": "stream",
          "name": "stdout",
          "text": [
            "2\n"
          ]
        }
      ]
    },
    {
      "cell_type": "markdown",
      "source": [
        "##Model design"
      ],
      "metadata": {
        "id": "vuWj9eWZkGCp"
      }
    },
    {
      "cell_type": "code",
      "source": [
        "from tensorflow import keras\n",
        "from tensorflow.keras import layers\n",
        "\n",
        "model = keras.Sequential([\n",
        "     layers.Dense(512, activation='relu'),\n",
        "    layers.Dense(10, activation='softmax')\n",
        "])"
      ],
      "metadata": {
        "id": "7zFiglC8kAi0"
      },
      "execution_count": 88,
      "outputs": []
    },
    {
      "cell_type": "markdown",
      "source": [
        "##Training"
      ],
      "metadata": {
        "id": "xFsB4ol3kx6k"
      }
    },
    {
      "cell_type": "code",
      "source": [
        "model.compile(\n",
        "    optimizer='rmsprop',\n",
        "    loss='sparse_categorical_crossentropy',\n",
        "    metrics=['accuracy'])"
      ],
      "metadata": {
        "id": "5goH9xgpkzxD"
      },
      "execution_count": 89,
      "outputs": []
    },
    {
      "cell_type": "code",
      "source": [
        "model.fit(train_dataset2, epochs=5, batch_size=128)"
      ],
      "metadata": {
        "colab": {
          "base_uri": "https://localhost:8080/"
        },
        "id": "ihFm08GylgK9",
        "outputId": "c531189d-f66c-413d-9cdd-c43f52c2eb79"
      },
      "execution_count": 90,
      "outputs": [
        {
          "output_type": "stream",
          "name": "stdout",
          "text": [
            "Epoch 1/5\n",
            "\u001b[1m469/469\u001b[0m \u001b[32m━━━━━━━━━━━━━━━━━━━━\u001b[0m\u001b[37m\u001b[0m \u001b[1m10s\u001b[0m 19ms/step - accuracy: 0.8389 - loss: 15.4642\n",
            "Epoch 2/5\n",
            "\u001b[1m469/469\u001b[0m \u001b[32m━━━━━━━━━━━━━━━━━━━━\u001b[0m\u001b[37m\u001b[0m \u001b[1m7s\u001b[0m 13ms/step - accuracy: 0.9491 - loss: 0.7117\n",
            "Epoch 3/5\n",
            "\u001b[1m469/469\u001b[0m \u001b[32m━━━━━━━━━━━━━━━━━━━━\u001b[0m\u001b[37m\u001b[0m \u001b[1m9s\u001b[0m 10ms/step - accuracy: 0.9638 - loss: 0.4662\n",
            "Epoch 4/5\n",
            "\u001b[1m469/469\u001b[0m \u001b[32m━━━━━━━━━━━━━━━━━━━━\u001b[0m\u001b[37m\u001b[0m \u001b[1m7s\u001b[0m 14ms/step - accuracy: 0.9704 - loss: 0.3637\n",
            "Epoch 5/5\n",
            "\u001b[1m469/469\u001b[0m \u001b[32m━━━━━━━━━━━━━━━━━━━━\u001b[0m\u001b[37m\u001b[0m \u001b[1m8s\u001b[0m 11ms/step - accuracy: 0.9761 - loss: 0.3054\n"
          ]
        },
        {
          "output_type": "execute_result",
          "data": {
            "text/plain": [
              "<keras.src.callbacks.history.History at 0x7abf84b459f0>"
            ]
          },
          "metadata": {},
          "execution_count": 90
        }
      ]
    }
  ]
}