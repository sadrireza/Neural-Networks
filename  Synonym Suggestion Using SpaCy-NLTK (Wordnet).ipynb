{
  "nbformat": 4,
  "nbformat_minor": 0,
  "metadata": {
    "colab": {
      "provenance": [],
      "include_colab_link": true
    },
    "kernelspec": {
      "name": "python3",
      "display_name": "Python 3"
    },
    "language_info": {
      "name": "python"
    }
  },
  "cells": [
    {
      "cell_type": "markdown",
      "metadata": {
        "id": "view-in-github",
        "colab_type": "text"
      },
      "source": [
        "<a href=\"https://colab.research.google.com/github/sadrireza/Neural-Networks/blob/main/%20Synonym%20Suggestion%20Using%20SpaCy-NLTK%20(Wordnet).ipynb\" target=\"_parent\"><img src=\"https://colab.research.google.com/assets/colab-badge.svg\" alt=\"Open In Colab\"/></a>"
      ]
    },
    {
      "cell_type": "markdown",
      "source": [
        "# Synonym Suggestion Using SpaCy-NLTK (Wordnet)\n",
        "\n",
        "Text is Dramatically Changed"
      ],
      "metadata": {
        "id": "6yZtDwuiattF"
      }
    },
    {
      "cell_type": "code",
      "execution_count": null,
      "metadata": {
        "colab": {
          "base_uri": "https://localhost:8080/"
        },
        "id": "I-VxDZWWD3Io",
        "outputId": "4196d99d-648b-4d69-c80d-8d32cd80baff"
      },
      "outputs": [
        {
          "output_type": "stream",
          "name": "stderr",
          "text": [
            "[nltk_data] Downloading package wordnet to /root/nltk_data...\n",
            "[nltk_data] Downloading package omw-1.4 to /root/nltk_data...\n"
          ]
        },
        {
          "output_type": "stream",
          "name": "stdout",
          "text": [
            "Original Text:\n",
            " \n",
            "Human beings are members of a whole,\n",
            "In creation of one essence and soul.\n",
            "If one member is afflicted with pain,\n",
            "Other members uneasy will remain.\n",
            "If you have no sympathy for human pain,\n",
            "The name of human you cannot retain.\n",
            "\n",
            "\n",
            "Corrected Text:\n",
            " \n",
            " homo beingness are fellow_member of a unit , \n",
            " In creative_activity of one kernel and psyche . \n",
            " If one fellow_member is smite with hurting , \n",
            " early fellow_member restless will stay . \n",
            " If you rich_person no understanding for homo hurting , \n",
            " The gens of homo you can not continue . \n",
            "\n",
            "Word: \n",
            " , Synonyms: []\n",
            "Word: homo, Synonyms: ['homosexual', 'homophile', 'gay', 'man', 'human_being', 'human']\n",
            "Word: beingness, Synonyms: ['being', 'existence']\n",
            "Word: are, Synonyms: ['ar', 'be', 'be', 'be', 'exist', 'be', 'be', 'equal', 'be', 'constitute', 'represent', 'make_up', 'comprise', 'be', 'be', 'follow', 'embody', 'be', 'personify', 'be', 'be', 'live', 'be', 'cost', 'be']\n",
            "Word: fellow_member, Synonyms: ['member']\n",
            "Word: of, Synonyms: []\n",
            "Word: a, Synonyms: ['angstrom', 'angstrom_unit', 'vitamin_A', 'antiophthalmic_factor', 'axerophthol', 'deoxyadenosine_monophosphate', 'adenine', 'ampere', 'amp', 'type_A', 'group_A']\n",
            "Word: unit, Synonyms: ['unit_of_measurement', 'social_unit', 'building_block', 'whole']\n",
            "Word: ,, Synonyms: []\n",
            "Word: \n",
            " , Synonyms: []\n",
            "Word: In, Synonyms: ['inch', 'indium', 'atomic_number_49', 'Indiana', 'Hoosier_State', 'inwards', 'inward']\n",
            "Word: creative_activity, Synonyms: ['creation']\n",
            "Word: of, Synonyms: []\n",
            "Word: one, Synonyms: ['1', 'I', 'ace', 'single', 'unity', '1', 'i', 'ane', 'unitary', 'matchless', 'nonpareil', 'one_and_only', 'peerless', 'unmatched', 'unmatchable', 'unrivaled', 'unrivalled']\n",
            "Word: kernel, Synonyms: ['meat', 'substance', 'core', 'center', 'centre', 'essence', 'gist', 'heart', 'heart_and_soul', 'inwardness', 'marrow', 'meat', 'nub', 'pith', 'sum', 'nitty-gritty']\n",
            "Word: and, Synonyms: []\n",
            "Word: psyche, Synonyms: ['mind', 'head', 'brain', 'nous', 'soul']\n",
            "Word: ., Synonyms: []\n",
            "Word: \n",
            " , Synonyms: []\n",
            "Word: If, Synonyms: []\n",
            "Word: one, Synonyms: ['1', 'I', 'ace', 'single', 'unity', '1', 'i', 'ane', 'unitary', 'matchless', 'nonpareil', 'one_and_only', 'peerless', 'unmatched', 'unmatchable', 'unrivaled', 'unrivalled']\n",
            "Word: fellow_member, Synonyms: ['member']\n",
            "Word: is, Synonyms: ['be', 'be', 'be', 'exist', 'be', 'be', 'equal', 'be', 'constitute', 'represent', 'make_up', 'comprise', 'be', 'be', 'follow', 'embody', 'be', 'personify', 'be', 'be', 'live', 'be', 'cost', 'be']\n",
            "Word: smite, Synonyms: ['afflict']\n",
            "Word: with, Synonyms: []\n",
            "Word: hurting, Synonyms: ['pain', 'ache', 'smart', 'hurt', 'hurt', 'pain', 'anguish', 'hurt', 'hurt', 'injure', 'hurt', 'wound', 'injure', 'bruise', 'offend', 'spite', 'hurt', 'ache', 'suffer', 'suffer', 'hurt']\n",
            "Word: ,, Synonyms: []\n",
            "Word: \n",
            " , Synonyms: []\n",
            "Word: early, Synonyms: ['former', 'other', 'early_on', 'ahead_of_time', 'too_soon', 'betimes']\n",
            "Word: fellow_member, Synonyms: ['member']\n",
            "Word: restless, Synonyms: ['ungratified', 'unsatisfied', 'uneasy']\n",
            "Word: will, Synonyms: ['volition', 'testament', 'bequeath', 'leave']\n",
            "Word: stay, Synonyms: ['arrest', 'check', 'halt', 'hitch', 'stop', 'stoppage', 'remain', 'rest', 'stick', 'stick_around', 'stay_put', 'bide', 'abide', 'stay_on', 'continue', 'remain', 'detain', 'delay', 'persist', 'remain', 'last_out', 'ride_out', 'outride', 'quell', 'appease']\n",
            "Word: ., Synonyms: []\n",
            "Word: \n",
            " , Synonyms: []\n",
            "Word: If, Synonyms: []\n",
            "Word: you, Synonyms: []\n",
            "Word: rich_person, Synonyms: ['wealthy_person', 'have']\n",
            "Word: no, Synonyms: ['nobelium', 'atomic_number_102', 'no_more']\n",
            "Word: understanding, Synonyms: ['apprehension', 'discernment', 'savvy', 'agreement', 'sympathy', 'reason', 'intellect', 'understand', 'understand', 'realize', 'realise', 'see', 'understand', 'read', 'interpret', 'translate', 'understand', 'infer', 'sympathize', 'sympathise', 'empathize', 'empathise', 'understand']\n",
            "Word: for, Synonyms: []\n",
            "Word: homo, Synonyms: ['homosexual', 'homophile', 'gay', 'man', 'human_being', 'human']\n",
            "Word: hurting, Synonyms: ['pain', 'ache', 'smart', 'hurt', 'hurt', 'pain', 'anguish', 'hurt', 'hurt', 'injure', 'hurt', 'wound', 'injure', 'bruise', 'offend', 'spite', 'hurt', 'ache', 'suffer', 'suffer', 'hurt']\n",
            "Word: ,, Synonyms: []\n",
            "Word: \n",
            " , Synonyms: []\n",
            "Word: The, Synonyms: []\n",
            "Word: gens, Synonyms: ['name', 'gen']\n",
            "Word: of, Synonyms: []\n",
            "Word: homo, Synonyms: ['homosexual', 'homophile', 'gay', 'man', 'human_being', 'human']\n",
            "Word: you, Synonyms: []\n",
            "Word: can, Synonyms: ['tin', 'tin_can', 'canful', 'can_buoy', 'buttocks', 'nates', 'arse', 'butt', 'backside', 'bum', 'buns', 'fundament', 'hindquarters', 'hind_end', 'keister', 'posterior', 'prat', 'rear', 'rear_end', 'rump', 'stern', 'seat', 'tail', 'tail_end', 'tooshie', 'tush', 'bottom', 'behind', 'derriere', 'fanny', 'ass', 'toilet', 'commode', 'crapper', 'pot', 'potty', 'stool', 'throne', 'toilet', 'lavatory', 'lav', 'john', 'privy', 'bathroom', 'tin', 'put_up', 'displace', 'fire', 'give_notice', 'dismiss', 'give_the_axe', 'send_away', 'sack', 'force_out', 'give_the_sack', 'terminate']\n",
            "Word: not, Synonyms: ['non']\n",
            "Word: continue, Synonyms: ['go_on', 'proceed', 'go_along', 'keep', 'go_on', 'carry_on', 'proceed', 'uphold', 'carry_on', 'bear_on', 'preserve', 'proceed', 'go_forward', 'retain', 'keep', 'keep_on', 'persist_in', 'stay', 'stay_on', 'remain', 'cover', 'extend']\n",
            "Word: ., Synonyms: []\n",
            "Word: \n",
            ", Synonyms: []\n"
          ]
        }
      ],
      "source": [
        "import spacy\n",
        "import nltk\n",
        "from nltk.corpus import wordnet\n",
        "from nltk.stem import WordNetLemmatizer\n",
        "nltk.download('wordnet')\n",
        "nltk.download('omw-1.4')\n",
        "\n",
        "# Load the spaCy model for English language\n",
        "nlp = spacy.load(\"en_core_web_sm\")\n",
        "\n",
        "def correct_syntax(text):\n",
        "    # Process the text using spaCy\n",
        "    doc = nlp(text)\n",
        "\n",
        "    # Initialize an empty list to store corrected tokens\n",
        "    corrected_tokens = []\n",
        "\n",
        "    # Iterate over each token in the document\n",
        "    for token in doc:\n",
        "        # Check if the token is a noun, verb, adjective, or adverb and suggest synonyms\n",
        "        if token.pos_ in {\"NOUN\", \"VERB\", \"ADJ\", \"ADV\"}:\n",
        "            synonyms = get_synonyms(token.lemma_)\n",
        "            # Check if there are any synonyms and avoid using the original word\n",
        "            synonym = synonyms[0] if synonyms else token.text\n",
        "            corrected_tokens.append(synonym)\n",
        "        else:\n",
        "            corrected_tokens.append(token.text)\n",
        "\n",
        "    # Join the corrected tokens back into a string\n",
        "    corrected_text = \" \".join(corrected_tokens)\n",
        "\n",
        "    return corrected_text\n",
        "\n",
        "def get_synonyms(word):\n",
        "    # Initialize an empty list to store synonyms\n",
        "    synonyms = []\n",
        "\n",
        "    # Use WordNet to find synonyms for the word\n",
        "    synsets = wordnet.synsets(word)\n",
        "\n",
        "    # Iterate over each synset and add its lemmas to the list of synonyms\n",
        "    for synset in synsets:\n",
        "        for lemma in synset.lemmas():\n",
        "            # Filter out the original word to avoid redundant replacement\n",
        "            if lemma.name().lower() != word.lower():\n",
        "                synonyms.append(lemma.name())\n",
        "\n",
        "    return synonyms\n",
        "\n",
        "# Test the function with a sample text\n",
        "text = '''\n",
        "Human beings are members of a whole,\n",
        "In creation of one essence and soul.\n",
        "If one member is afflicted with pain,\n",
        "Other members uneasy will remain.\n",
        "If you have no sympathy for human pain,\n",
        "The name of human you cannot retain.\n",
        "'''\n",
        "\n",
        "corrected_text = correct_syntax(text)\n",
        "print(\"Original Text:\\n\", text)\n",
        "print(\"\\nCorrected Text:\\n\", corrected_text)\n",
        "\n",
        "# Get synonyms for each word in the corrected text\n",
        "for word in nlp(corrected_text):\n",
        "    print(f\"Word: {word.text}, Synonyms: {get_synonyms(word.text)}\")\n"
      ]
    }
  ]
}